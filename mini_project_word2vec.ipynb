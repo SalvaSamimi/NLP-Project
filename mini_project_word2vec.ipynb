{
  "cells": [
    {
      "cell_type": "markdown",
      "metadata": {
        "id": "MQKiBZ28pbqk"
      },
      "source": [
        "## Identifying Duplicate Questions"
      ]
    },
    {
      "cell_type": "markdown",
      "metadata": {
        "id": "IETh1pd4pbqr"
      },
      "source": [
        "Over 100 million people visit Quora every month, so it's no surprise that many people ask similar (or the same) questions. Various questions with the same intent can cause people to spend extra time searching for the best answer to their question, and results in members answering multiple versions of the same question. Quora uses random forest to identify duplicated questions to provide a better experience to active seekers and writers, and offer more value to both of these groups in the long term.\n",
        "Follow the steps outlined below to build the appropriate classifier model. \n",
        "\n",
        "\n",
        "Steps:\n",
        "- Download data\n",
        "- Exploration\n",
        "- Cleaning\n",
        "- Feature Engineering\n",
        "- Modeling\n",
        "\n",
        "By the end of this project you should have **a presentation that describes the model you built** and its **performance**. \n"
      ]
    },
    {
      "cell_type": "code",
      "execution_count": null,
      "metadata": {
        "id": "yEv15lI4pbqs"
      },
      "outputs": [],
      "source": [
        "\n",
        "import numpy as np\n",
        "import pandas as pd\n",
        "import matplotlib.pyplot as plt\n",
        "from scipy import spatial\n",
        "\n",
        "\n"
      ]
    },
    {
      "cell_type": "code",
      "execution_count": null,
      "metadata": {
        "id": "EEVHng7cRnC2"
      },
      "outputs": [],
      "source": []
    },
    {
      "cell_type": "code",
      "execution_count": null,
      "metadata": {
        "colab": {
          "base_uri": "https://localhost:8080/",
          "height": 206
        },
        "id": "1faeAddBpbqv",
        "outputId": "a07f7b79-33b0-41bf-d2ef-2520361af79a"
      },
      "outputs": [
        {
          "output_type": "execute_result",
          "data": {
            "text/plain": [
              "   id  qid1  qid2                                          question1  \\\n",
              "0   0     1     2  What is the step by step guide to invest in sh...   \n",
              "1   1     3     4  What is the story of Kohinoor (Koh-i-Noor) Dia...   \n",
              "2   2     5     6  How can I increase the speed of my internet co...   \n",
              "3   3     7     8  Why am I mentally very lonely? How can I solve...   \n",
              "4   4     9    10  Which one dissolve in water quikly sugar, salt...   \n",
              "\n",
              "                                           question2  is_duplicate  \n",
              "0  What is the step by step guide to invest in sh...             0  \n",
              "1  What would happen if the Indian government sto...             0  \n",
              "2  How can Internet speed be increased by hacking...             0  \n",
              "3  Find the remainder when [math]23^{24}[/math] i...             0  \n",
              "4            Which fish would survive in salt water?             0  "
            ],
            "text/html": [
              "\n",
              "  <div id=\"df-f6f76584-7032-4b4d-996f-6137289762d3\">\n",
              "    <div class=\"colab-df-container\">\n",
              "      <div>\n",
              "<style scoped>\n",
              "    .dataframe tbody tr th:only-of-type {\n",
              "        vertical-align: middle;\n",
              "    }\n",
              "\n",
              "    .dataframe tbody tr th {\n",
              "        vertical-align: top;\n",
              "    }\n",
              "\n",
              "    .dataframe thead th {\n",
              "        text-align: right;\n",
              "    }\n",
              "</style>\n",
              "<table border=\"1\" class=\"dataframe\">\n",
              "  <thead>\n",
              "    <tr style=\"text-align: right;\">\n",
              "      <th></th>\n",
              "      <th>id</th>\n",
              "      <th>qid1</th>\n",
              "      <th>qid2</th>\n",
              "      <th>question1</th>\n",
              "      <th>question2</th>\n",
              "      <th>is_duplicate</th>\n",
              "    </tr>\n",
              "  </thead>\n",
              "  <tbody>\n",
              "    <tr>\n",
              "      <th>0</th>\n",
              "      <td>0</td>\n",
              "      <td>1</td>\n",
              "      <td>2</td>\n",
              "      <td>What is the step by step guide to invest in sh...</td>\n",
              "      <td>What is the step by step guide to invest in sh...</td>\n",
              "      <td>0</td>\n",
              "    </tr>\n",
              "    <tr>\n",
              "      <th>1</th>\n",
              "      <td>1</td>\n",
              "      <td>3</td>\n",
              "      <td>4</td>\n",
              "      <td>What is the story of Kohinoor (Koh-i-Noor) Dia...</td>\n",
              "      <td>What would happen if the Indian government sto...</td>\n",
              "      <td>0</td>\n",
              "    </tr>\n",
              "    <tr>\n",
              "      <th>2</th>\n",
              "      <td>2</td>\n",
              "      <td>5</td>\n",
              "      <td>6</td>\n",
              "      <td>How can I increase the speed of my internet co...</td>\n",
              "      <td>How can Internet speed be increased by hacking...</td>\n",
              "      <td>0</td>\n",
              "    </tr>\n",
              "    <tr>\n",
              "      <th>3</th>\n",
              "      <td>3</td>\n",
              "      <td>7</td>\n",
              "      <td>8</td>\n",
              "      <td>Why am I mentally very lonely? How can I solve...</td>\n",
              "      <td>Find the remainder when [math]23^{24}[/math] i...</td>\n",
              "      <td>0</td>\n",
              "    </tr>\n",
              "    <tr>\n",
              "      <th>4</th>\n",
              "      <td>4</td>\n",
              "      <td>9</td>\n",
              "      <td>10</td>\n",
              "      <td>Which one dissolve in water quikly sugar, salt...</td>\n",
              "      <td>Which fish would survive in salt water?</td>\n",
              "      <td>0</td>\n",
              "    </tr>\n",
              "  </tbody>\n",
              "</table>\n",
              "</div>\n",
              "      <button class=\"colab-df-convert\" onclick=\"convertToInteractive('df-f6f76584-7032-4b4d-996f-6137289762d3')\"\n",
              "              title=\"Convert this dataframe to an interactive table.\"\n",
              "              style=\"display:none;\">\n",
              "        \n",
              "  <svg xmlns=\"http://www.w3.org/2000/svg\" height=\"24px\"viewBox=\"0 0 24 24\"\n",
              "       width=\"24px\">\n",
              "    <path d=\"M0 0h24v24H0V0z\" fill=\"none\"/>\n",
              "    <path d=\"M18.56 5.44l.94 2.06.94-2.06 2.06-.94-2.06-.94-.94-2.06-.94 2.06-2.06.94zm-11 1L8.5 8.5l.94-2.06 2.06-.94-2.06-.94L8.5 2.5l-.94 2.06-2.06.94zm10 10l.94 2.06.94-2.06 2.06-.94-2.06-.94-.94-2.06-.94 2.06-2.06.94z\"/><path d=\"M17.41 7.96l-1.37-1.37c-.4-.4-.92-.59-1.43-.59-.52 0-1.04.2-1.43.59L10.3 9.45l-7.72 7.72c-.78.78-.78 2.05 0 2.83L4 21.41c.39.39.9.59 1.41.59.51 0 1.02-.2 1.41-.59l7.78-7.78 2.81-2.81c.8-.78.8-2.07 0-2.86zM5.41 20L4 18.59l7.72-7.72 1.47 1.35L5.41 20z\"/>\n",
              "  </svg>\n",
              "      </button>\n",
              "      \n",
              "  <style>\n",
              "    .colab-df-container {\n",
              "      display:flex;\n",
              "      flex-wrap:wrap;\n",
              "      gap: 12px;\n",
              "    }\n",
              "\n",
              "    .colab-df-convert {\n",
              "      background-color: #E8F0FE;\n",
              "      border: none;\n",
              "      border-radius: 50%;\n",
              "      cursor: pointer;\n",
              "      display: none;\n",
              "      fill: #1967D2;\n",
              "      height: 32px;\n",
              "      padding: 0 0 0 0;\n",
              "      width: 32px;\n",
              "    }\n",
              "\n",
              "    .colab-df-convert:hover {\n",
              "      background-color: #E2EBFA;\n",
              "      box-shadow: 0px 1px 2px rgba(60, 64, 67, 0.3), 0px 1px 3px 1px rgba(60, 64, 67, 0.15);\n",
              "      fill: #174EA6;\n",
              "    }\n",
              "\n",
              "    [theme=dark] .colab-df-convert {\n",
              "      background-color: #3B4455;\n",
              "      fill: #D2E3FC;\n",
              "    }\n",
              "\n",
              "    [theme=dark] .colab-df-convert:hover {\n",
              "      background-color: #434B5C;\n",
              "      box-shadow: 0px 1px 3px 1px rgba(0, 0, 0, 0.15);\n",
              "      filter: drop-shadow(0px 1px 2px rgba(0, 0, 0, 0.3));\n",
              "      fill: #FFFFFF;\n",
              "    }\n",
              "  </style>\n",
              "\n",
              "      <script>\n",
              "        const buttonEl =\n",
              "          document.querySelector('#df-f6f76584-7032-4b4d-996f-6137289762d3 button.colab-df-convert');\n",
              "        buttonEl.style.display =\n",
              "          google.colab.kernel.accessAllowed ? 'block' : 'none';\n",
              "\n",
              "        async function convertToInteractive(key) {\n",
              "          const element = document.querySelector('#df-f6f76584-7032-4b4d-996f-6137289762d3');\n",
              "          const dataTable =\n",
              "            await google.colab.kernel.invokeFunction('convertToInteractive',\n",
              "                                                     [key], {});\n",
              "          if (!dataTable) return;\n",
              "\n",
              "          const docLinkHtml = 'Like what you see? Visit the ' +\n",
              "            '<a target=\"_blank\" href=https://colab.research.google.com/notebooks/data_table.ipynb>data table notebook</a>'\n",
              "            + ' to learn more about interactive tables.';\n",
              "          element.innerHTML = '';\n",
              "          dataTable['output_type'] = 'display_data';\n",
              "          await google.colab.output.renderOutput(dataTable, element);\n",
              "          const docLink = document.createElement('div');\n",
              "          docLink.innerHTML = docLinkHtml;\n",
              "          element.appendChild(docLink);\n",
              "        }\n",
              "      </script>\n",
              "    </div>\n",
              "  </div>\n",
              "  "
            ]
          },
          "metadata": {},
          "execution_count": 3
        }
      ],
      "source": [
        "df_new = pd.read_csv('/content/train.csv')\n",
        "df_new.head()"
      ]
    },
    {
      "cell_type": "code",
      "execution_count": null,
      "metadata": {
        "colab": {
          "base_uri": "https://localhost:8080/"
        },
        "id": "17p5F5IOyPAY",
        "outputId": "88d6cb9e-a889-4d25-8f32-632aeb946aa0"
      },
      "outputs": [
        {
          "output_type": "stream",
          "name": "stderr",
          "text": [
            "<ipython-input-4-00fc50ba3482>:3: FutureWarning: Passing a negative integer is deprecated in version 1.0 and will not be supported in future version. Instead, use None to not limit the column width.\n",
            "  pd.set_option('display.max_colwidth', -1)\n"
          ]
        }
      ],
      "source": [
        "#to see data frame better we can change column width or remove column width limit(by setting -1), because long questions have been cut(stackoverflow)\n",
        "\n",
        "pd.set_option('display.max_colwidth', -1)"
      ]
    },
    {
      "cell_type": "code",
      "execution_count": null,
      "metadata": {
        "colab": {
          "base_uri": "https://localhost:8080/",
          "height": 302
        },
        "id": "HLv3UFcZySBZ",
        "outputId": "d9f07bc3-cf01-4ea7-ae17-2cc39b27645c"
      },
      "outputs": [
        {
          "output_type": "execute_result",
          "data": {
            "text/plain": [
              "   id  qid1  qid2  \\\n",
              "0  0   1     2      \n",
              "1  1   3     4      \n",
              "2  2   5     6      \n",
              "3  3   7     8      \n",
              "4  4   9     10     \n",
              "\n",
              "                                                                      question1  \\\n",
              "0  What is the step by step guide to invest in share market in india?             \n",
              "1  What is the story of Kohinoor (Koh-i-Noor) Diamond?                            \n",
              "2  How can I increase the speed of my internet connection while using a VPN?      \n",
              "3  Why am I mentally very lonely? How can I solve it?                             \n",
              "4  Which one dissolve in water quikly sugar, salt, methane and carbon di oxide?   \n",
              "\n",
              "                                                                                  question2  \\\n",
              "0  What is the step by step guide to invest in share market?                                  \n",
              "1  What would happen if the Indian government stole the Kohinoor (Koh-i-Noor) diamond back?   \n",
              "2  How can Internet speed be increased by hacking through DNS?                                \n",
              "3  Find the remainder when [math]23^{24}[/math] is divided by 24,23?                          \n",
              "4  Which fish would survive in salt water?                                                    \n",
              "\n",
              "   is_duplicate  \n",
              "0  0             \n",
              "1  0             \n",
              "2  0             \n",
              "3  0             \n",
              "4  0             "
            ],
            "text/html": [
              "\n",
              "  <div id=\"df-846e476e-526d-4bd3-b65f-adf18c2a304a\">\n",
              "    <div class=\"colab-df-container\">\n",
              "      <div>\n",
              "<style scoped>\n",
              "    .dataframe tbody tr th:only-of-type {\n",
              "        vertical-align: middle;\n",
              "    }\n",
              "\n",
              "    .dataframe tbody tr th {\n",
              "        vertical-align: top;\n",
              "    }\n",
              "\n",
              "    .dataframe thead th {\n",
              "        text-align: right;\n",
              "    }\n",
              "</style>\n",
              "<table border=\"1\" class=\"dataframe\">\n",
              "  <thead>\n",
              "    <tr style=\"text-align: right;\">\n",
              "      <th></th>\n",
              "      <th>id</th>\n",
              "      <th>qid1</th>\n",
              "      <th>qid2</th>\n",
              "      <th>question1</th>\n",
              "      <th>question2</th>\n",
              "      <th>is_duplicate</th>\n",
              "    </tr>\n",
              "  </thead>\n",
              "  <tbody>\n",
              "    <tr>\n",
              "      <th>0</th>\n",
              "      <td>0</td>\n",
              "      <td>1</td>\n",
              "      <td>2</td>\n",
              "      <td>What is the step by step guide to invest in share market in india?</td>\n",
              "      <td>What is the step by step guide to invest in share market?</td>\n",
              "      <td>0</td>\n",
              "    </tr>\n",
              "    <tr>\n",
              "      <th>1</th>\n",
              "      <td>1</td>\n",
              "      <td>3</td>\n",
              "      <td>4</td>\n",
              "      <td>What is the story of Kohinoor (Koh-i-Noor) Diamond?</td>\n",
              "      <td>What would happen if the Indian government stole the Kohinoor (Koh-i-Noor) diamond back?</td>\n",
              "      <td>0</td>\n",
              "    </tr>\n",
              "    <tr>\n",
              "      <th>2</th>\n",
              "      <td>2</td>\n",
              "      <td>5</td>\n",
              "      <td>6</td>\n",
              "      <td>How can I increase the speed of my internet connection while using a VPN?</td>\n",
              "      <td>How can Internet speed be increased by hacking through DNS?</td>\n",
              "      <td>0</td>\n",
              "    </tr>\n",
              "    <tr>\n",
              "      <th>3</th>\n",
              "      <td>3</td>\n",
              "      <td>7</td>\n",
              "      <td>8</td>\n",
              "      <td>Why am I mentally very lonely? How can I solve it?</td>\n",
              "      <td>Find the remainder when [math]23^{24}[/math] is divided by 24,23?</td>\n",
              "      <td>0</td>\n",
              "    </tr>\n",
              "    <tr>\n",
              "      <th>4</th>\n",
              "      <td>4</td>\n",
              "      <td>9</td>\n",
              "      <td>10</td>\n",
              "      <td>Which one dissolve in water quikly sugar, salt, methane and carbon di oxide?</td>\n",
              "      <td>Which fish would survive in salt water?</td>\n",
              "      <td>0</td>\n",
              "    </tr>\n",
              "  </tbody>\n",
              "</table>\n",
              "</div>\n",
              "      <button class=\"colab-df-convert\" onclick=\"convertToInteractive('df-846e476e-526d-4bd3-b65f-adf18c2a304a')\"\n",
              "              title=\"Convert this dataframe to an interactive table.\"\n",
              "              style=\"display:none;\">\n",
              "        \n",
              "  <svg xmlns=\"http://www.w3.org/2000/svg\" height=\"24px\"viewBox=\"0 0 24 24\"\n",
              "       width=\"24px\">\n",
              "    <path d=\"M0 0h24v24H0V0z\" fill=\"none\"/>\n",
              "    <path d=\"M18.56 5.44l.94 2.06.94-2.06 2.06-.94-2.06-.94-.94-2.06-.94 2.06-2.06.94zm-11 1L8.5 8.5l.94-2.06 2.06-.94-2.06-.94L8.5 2.5l-.94 2.06-2.06.94zm10 10l.94 2.06.94-2.06 2.06-.94-2.06-.94-.94-2.06-.94 2.06-2.06.94z\"/><path d=\"M17.41 7.96l-1.37-1.37c-.4-.4-.92-.59-1.43-.59-.52 0-1.04.2-1.43.59L10.3 9.45l-7.72 7.72c-.78.78-.78 2.05 0 2.83L4 21.41c.39.39.9.59 1.41.59.51 0 1.02-.2 1.41-.59l7.78-7.78 2.81-2.81c.8-.78.8-2.07 0-2.86zM5.41 20L4 18.59l7.72-7.72 1.47 1.35L5.41 20z\"/>\n",
              "  </svg>\n",
              "      </button>\n",
              "      \n",
              "  <style>\n",
              "    .colab-df-container {\n",
              "      display:flex;\n",
              "      flex-wrap:wrap;\n",
              "      gap: 12px;\n",
              "    }\n",
              "\n",
              "    .colab-df-convert {\n",
              "      background-color: #E8F0FE;\n",
              "      border: none;\n",
              "      border-radius: 50%;\n",
              "      cursor: pointer;\n",
              "      display: none;\n",
              "      fill: #1967D2;\n",
              "      height: 32px;\n",
              "      padding: 0 0 0 0;\n",
              "      width: 32px;\n",
              "    }\n",
              "\n",
              "    .colab-df-convert:hover {\n",
              "      background-color: #E2EBFA;\n",
              "      box-shadow: 0px 1px 2px rgba(60, 64, 67, 0.3), 0px 1px 3px 1px rgba(60, 64, 67, 0.15);\n",
              "      fill: #174EA6;\n",
              "    }\n",
              "\n",
              "    [theme=dark] .colab-df-convert {\n",
              "      background-color: #3B4455;\n",
              "      fill: #D2E3FC;\n",
              "    }\n",
              "\n",
              "    [theme=dark] .colab-df-convert:hover {\n",
              "      background-color: #434B5C;\n",
              "      box-shadow: 0px 1px 3px 1px rgba(0, 0, 0, 0.15);\n",
              "      filter: drop-shadow(0px 1px 2px rgba(0, 0, 0, 0.3));\n",
              "      fill: #FFFFFF;\n",
              "    }\n",
              "  </style>\n",
              "\n",
              "      <script>\n",
              "        const buttonEl =\n",
              "          document.querySelector('#df-846e476e-526d-4bd3-b65f-adf18c2a304a button.colab-df-convert');\n",
              "        buttonEl.style.display =\n",
              "          google.colab.kernel.accessAllowed ? 'block' : 'none';\n",
              "\n",
              "        async function convertToInteractive(key) {\n",
              "          const element = document.querySelector('#df-846e476e-526d-4bd3-b65f-adf18c2a304a');\n",
              "          const dataTable =\n",
              "            await google.colab.kernel.invokeFunction('convertToInteractive',\n",
              "                                                     [key], {});\n",
              "          if (!dataTable) return;\n",
              "\n",
              "          const docLinkHtml = 'Like what you see? Visit the ' +\n",
              "            '<a target=\"_blank\" href=https://colab.research.google.com/notebooks/data_table.ipynb>data table notebook</a>'\n",
              "            + ' to learn more about interactive tables.';\n",
              "          element.innerHTML = '';\n",
              "          dataTable['output_type'] = 'display_data';\n",
              "          await google.colab.output.renderOutput(dataTable, element);\n",
              "          const docLink = document.createElement('div');\n",
              "          docLink.innerHTML = docLinkHtml;\n",
              "          element.appendChild(docLink);\n",
              "        }\n",
              "      </script>\n",
              "    </div>\n",
              "  </div>\n",
              "  "
            ]
          },
          "metadata": {},
          "execution_count": 5
        }
      ],
      "source": [
        "df_new.head()"
      ]
    },
    {
      "cell_type": "code",
      "execution_count": null,
      "metadata": {
        "id": "sBct4cISJFjt"
      },
      "outputs": [],
      "source": []
    },
    {
      "cell_type": "markdown",
      "metadata": {
        "id": "0zN1Wiyepbqx"
      },
      "source": [
        "### Exploration"
      ]
    },
    {
      "cell_type": "markdown",
      "metadata": {
        "id": "s-g6kVVjpbqw"
      },
      "source": [
        "#### Note\n",
        "There is no designated test.csv file. The train.csv file is the entire dataset. Part of the data in the train.csv file should be set aside to act as the final testing data."
      ]
    },
    {
      "cell_type": "code",
      "execution_count": null,
      "metadata": {
        "colab": {
          "base_uri": "https://localhost:8080/"
        },
        "id": "6C6EDTthS9Y0",
        "outputId": "5f7604fe-9cd3-4147-b5a0-42848750c264"
      },
      "outputs": [
        {
          "output_type": "execute_result",
          "data": {
            "text/plain": [
              "(404290, 6)"
            ]
          },
          "metadata": {},
          "execution_count": 6
        }
      ],
      "source": [
        "df_new.shape"
      ]
    },
    {
      "cell_type": "code",
      "execution_count": null,
      "metadata": {
        "colab": {
          "base_uri": "https://localhost:8080/"
        },
        "id": "666tDCcAoD6Z",
        "outputId": "10f75a51-4055-4385-e37d-7705fb26f518"
      },
      "outputs": [
        {
          "output_type": "stream",
          "name": "stdout",
          "text": [
            "<class 'pandas.core.frame.DataFrame'>\n",
            "RangeIndex: 404290 entries, 0 to 404289\n",
            "Data columns (total 6 columns):\n",
            " #   Column        Non-Null Count   Dtype \n",
            "---  ------        --------------   ----- \n",
            " 0   id            404290 non-null  int64 \n",
            " 1   qid1          404290 non-null  int64 \n",
            " 2   qid2          404290 non-null  int64 \n",
            " 3   question1     404289 non-null  object\n",
            " 4   question2     404288 non-null  object\n",
            " 5   is_duplicate  404290 non-null  int64 \n",
            "dtypes: int64(4), object(2)\n",
            "memory usage: 18.5+ MB\n"
          ]
        }
      ],
      "source": [
        "df_new.info()"
      ]
    },
    {
      "cell_type": "code",
      "execution_count": null,
      "metadata": {
        "id": "bTedtpUjoEdp"
      },
      "outputs": [],
      "source": [
        "df = df_new.copy()"
      ]
    },
    {
      "cell_type": "code",
      "execution_count": null,
      "metadata": {
        "colab": {
          "base_uri": "https://localhost:8080/"
        },
        "id": "75EdNV31mWlw",
        "outputId": "7c44deb9-10c3-4d8b-9aa4-429a443b4a0d"
      },
      "outputs": [
        {
          "output_type": "execute_result",
          "data": {
            "text/plain": [
              "id              0\n",
              "qid1            0\n",
              "qid2            0\n",
              "question1       1\n",
              "question2       2\n",
              "is_duplicate    0\n",
              "dtype: int64"
            ]
          },
          "metadata": {},
          "execution_count": 10
        }
      ],
      "source": [
        "df.isnull().sum()"
      ]
    },
    {
      "cell_type": "code",
      "execution_count": null,
      "metadata": {
        "id": "G31oCzrvpbqy"
      },
      "outputs": [],
      "source": [
        "#remove rows with null value\n",
        "df.dropna(axis=0 , inplace=True)"
      ]
    },
    {
      "cell_type": "code",
      "execution_count": null,
      "metadata": {
        "colab": {
          "base_uri": "https://localhost:8080/"
        },
        "id": "OkpsfbNTpSy4",
        "outputId": "b1b49001-7af6-4fc9-acfb-aac213209759"
      },
      "outputs": [
        {
          "output_type": "stream",
          "name": "stdout",
          "text": [
            "<class 'pandas.core.frame.DataFrame'>\n",
            "Int64Index: 404287 entries, 0 to 404289\n",
            "Data columns (total 6 columns):\n",
            " #   Column        Non-Null Count   Dtype \n",
            "---  ------        --------------   ----- \n",
            " 0   id            404287 non-null  int64 \n",
            " 1   qid1          404287 non-null  int64 \n",
            " 2   qid2          404287 non-null  int64 \n",
            " 3   question1     404287 non-null  object\n",
            " 4   question2     404287 non-null  object\n",
            " 5   is_duplicate  404287 non-null  int64 \n",
            "dtypes: int64(4), object(2)\n",
            "memory usage: 21.6+ MB\n"
          ]
        }
      ],
      "source": [
        "df.info()"
      ]
    },
    {
      "cell_type": "code",
      "execution_count": null,
      "metadata": {
        "id": "e_cId5DMleBp"
      },
      "outputs": [],
      "source": [
        "# 'question1' and 'question2'columns data type are object and we should change them to string\n",
        "df['question1'] = df['question1'].astype(str)\n",
        "df['question2'] = df['question2'].astype(str)"
      ]
    },
    {
      "cell_type": "code",
      "execution_count": null,
      "metadata": {
        "colab": {
          "base_uri": "https://localhost:8080/"
        },
        "id": "K6jf21TKrBtp",
        "outputId": "1186bdc9-6400-4ffa-bae2-61f16de44c66"
      },
      "outputs": [
        {
          "output_type": "stream",
          "name": "stdout",
          "text": [
            "<class 'pandas.core.frame.DataFrame'>\n",
            "Int64Index: 404287 entries, 0 to 404289\n",
            "Data columns (total 6 columns):\n",
            " #   Column        Non-Null Count   Dtype \n",
            "---  ------        --------------   ----- \n",
            " 0   id            404287 non-null  int64 \n",
            " 1   qid1          404287 non-null  int64 \n",
            " 2   qid2          404287 non-null  int64 \n",
            " 3   question1     404287 non-null  object\n",
            " 4   question2     404287 non-null  object\n",
            " 5   is_duplicate  404287 non-null  int64 \n",
            "dtypes: int64(4), object(2)\n",
            "memory usage: 21.6+ MB\n"
          ]
        }
      ],
      "source": [
        "df.info()"
      ]
    },
    {
      "cell_type": "markdown",
      "metadata": {
        "id": "re0K5rd94J1m"
      },
      "source": [
        "#### * It is a binary classification problem, for a given pair of questions we need to predict if they are duplicates or not\n",
        "\n",
        "#### * our target is binary, 0 for not repeated question and 1 for repeated question"
      ]
    },
    {
      "cell_type": "code",
      "execution_count": null,
      "metadata": {
        "colab": {
          "base_uri": "https://localhost:8080/",
          "height": 529
        },
        "id": "_yraKDFlvvCA",
        "outputId": "e3916991-9d9b-4fc8-8cd7-2d7be2c0ee57"
      },
      "outputs": [
        {
          "output_type": "stream",
          "name": "stdout",
          "text": [
            "0    255024\n",
            "1    149263\n",
            "Name: is_duplicate, dtype: int64\n",
            "0    63.079941\n",
            "1    36.920059\n",
            "Name: is_duplicate, dtype: float64\n"
          ]
        },
        {
          "output_type": "display_data",
          "data": {
            "text/plain": [
              "<Figure size 640x480 with 1 Axes>"
            ],
            "image/png": "[encoded data removed]"
          },
          "metadata": {}
        }
      ],
      "source": [
        "# 'is_duplicate' is our label or target\n",
        "#duplicate and non-duplicate questions count\n",
        "print(df['is_duplicate'].value_counts())\n",
        "\n",
        "#duplicate and non-duplicate questions percent\n",
        "print((df['is_duplicate'].value_counts()/df['is_duplicate'].count())*100)\n",
        "\n",
        "#the distribution of the target bar chart\n",
        "df['is_duplicate'].value_counts().plot(kind='bar')\n",
        "plt.show()\n"
      ]
    },
    {
      "cell_type": "markdown",
      "metadata": {
        "id": "Low1zOFtTcJX"
      },
      "source": [
        "#### * our target is some how inbalanced"
      ]
    },
    {
      "cell_type": "code",
      "execution_count": null,
      "metadata": {
        "colab": {
          "base_uri": "https://localhost:8080/"
        },
        "id": "s3dvAgz7pbq0",
        "outputId": "740c47bd-3971-438a-b02f-2ea4288aa70d"
      },
      "outputs": [
        {
          "output_type": "stream",
          "name": "stdout",
          "text": [
            "Total Number of questions 808574\n",
            "Number of unique questions 537929\n",
            "Number of questions getting repeated 111778\n"
          ]
        }
      ],
      "source": [
        "# Repeated questions\n",
        "\n",
        "qid = pd.Series(df['qid1'].tolist() + df['qid2'].tolist())\n",
        "print('Total Number of questions',qid.shape[0])\n",
        "print('Number of unique questions',np.unique(qid).shape[0])\n",
        "x = qid.value_counts()>1\n",
        "print('Number of questions getting repeated',x[x].shape[0])"
      ]
    },
    {
      "cell_type": "code",
      "execution_count": null,
      "metadata": {
        "colab": {
          "base_uri": "https://localhost:8080/",
          "height": 430
        },
        "id": "1dNoqDHSc6Ku",
        "outputId": "d0eca569-66bf-4e83-fa22-5b61f24552ae"
      },
      "outputs": [
        {
          "output_type": "display_data",
          "data": {
            "text/plain": [
              "<Figure size 640x480 with 1 Axes>"
            ],
            "image/png": "[encoded data removed]"
          },
          "metadata": {}
        }
      ],
      "source": [
        "# Repeated questions histogram\n",
        "\n",
        "plt.hist(qid.value_counts().values,bins=150)\n",
        "plt.yscale('log')\n",
        "plt.show()"
      ]
    },
    {
      "cell_type": "markdown",
      "metadata": {
        "id": "o8d00mx4pbq0"
      },
      "source": [
        "### Cleaning\n",
        "\n",
        "- Tokenization\n",
        "- Stopwords cleaning\n",
        "- Removing punctuation\n",
        "- Normalizing\n",
        "- Stemming"
      ]
    },
    {
      "cell_type": "code",
      "execution_count": null,
      "metadata": {
        "id": "G3qBmjcupbq1"
      },
      "outputs": [],
      "source": [
        "# 'question1' and 'question2'columns data type are object and we should change them to string\n",
        "df['question1'] = df['question1'].astype(str)\n",
        "df['question1'] = df['question1'].astype(str)\n"
      ]
    },
    {
      "cell_type": "code",
      "execution_count": null,
      "metadata": {
        "colab": {
          "base_uri": "https://localhost:8080/"
        },
        "id": "gwqJVhsBuAhY",
        "outputId": "afe69990-ae80-4d56-e8f8-458f2e368716"
      },
      "outputs": [
        {
          "output_type": "execute_result",
          "data": {
            "text/plain": [
              "0"
            ]
          },
          "metadata": {},
          "execution_count": 24
        }
      ],
      "source": [
        "# duplicate rows\n",
        "df.duplicated().sum()"
      ]
    },
    {
      "cell_type": "code",
      "execution_count": null,
      "metadata": {
        "colab": {
          "base_uri": "https://localhost:8080/"
        },
        "id": "4Wflb_OVpbq2",
        "outputId": "5086b0f6-7d9e-4bf9-9757-a134b0695f6a"
      },
      "outputs": [
        {
          "output_type": "stream",
          "name": "stderr",
          "text": [
            "[nltk_data] Downloading package stopwords to /root/nltk_data...\n",
            "[nltk_data]   Unzipping corpora/stopwords.zip.\n",
            "[nltk_data] Downloading package wordnet to /root/nltk_data...\n",
            "[nltk_data] Downloading package punkt to /root/nltk_data...\n",
            "[nltk_data]   Unzipping tokenizers/punkt.zip.\n",
            "[nltk_data] Downloading package averaged_perceptron_tagger to\n",
            "[nltk_data]     /root/nltk_data...\n",
            "[nltk_data]   Unzipping taggers/averaged_perceptron_tagger.zip.\n"
          ]
        },
        {
          "output_type": "execute_result",
          "data": {
            "text/plain": [
              "True"
            ]
          },
          "metadata": {},
          "execution_count": 25
        }
      ],
      "source": [
        "# to do preprocessing we Import nltk package\n",
        "# nltk.download()\n",
        "import nltk\n",
        "nltk.download('stopwords')\n",
        "nltk.download('wordnet')\n",
        "nltk.download('punkt')\n",
        "nltk.download('averaged_perceptron_tagger') \n"
      ]
    },
    {
      "cell_type": "code",
      "execution_count": null,
      "metadata": {
        "id": "Oaw7Iyi8zsYF"
      },
      "outputs": [],
      "source": [
        "#this is as stretch work for future\n",
        "#function for handling contractions\n",
        "def text_preprocess(ques):\n",
        "    ques = str(ques).lower().strip()\n",
        "\n",
        "    ques = ques.replace('%',' percent')\n",
        "    ques = ques.replace('$',' dollar ')\n",
        "    ques = ques.replace('₹', ' rupee ')\n",
        "    ques = ques.replace('€', ' euro ')\n",
        "    ques = ques.replace('@', ' at ')\n",
        "    ques = ques.replace('[math]','')\n",
        "    ques = ques.replace(',000,000,000 ', 'b ')\n",
        "    ques = ques.replace(',000,000 ', 'm ')\n",
        "    ques = ques.replace(',000 ', 'k ')\n",
        "    ques = re.sub(r'([0-9]+)000000000', r'\\1b', ques)\n",
        "    ques = re.sub(r'([0-9]+)000000', r'\\1m', ques)\n",
        "    ques = re.sub(r'([0-9]+)000', r'\\1k', ques)\n",
        "    # Decontract words\n",
        "    # https://en.wikipedia.org/wiki/Wikipedia%3aList_of_English_contractions\n",
        "    # https://stackoverflow.com/a/19794953\n",
        "\n",
        "    contractions = { \n",
        "    \"ain't\": \"am not\",\n",
        "    \"aren't\": \"are not\",\n",
        "    \"can't\": \"can not\",\n",
        "    \"can't've\": \"can not have\",\n",
        "    \"'cause\": \"because\",\n",
        "    \"could've\": \"could have\",\n",
        "    \"couldn't\": \"could not\",\n",
        "    \"couldn't've\": \"could not have\",\n",
        "    \"didn't\": \"did not\",\n",
        "    \"doesn't\": \"does not\",\n",
        "    \"don't\": \"do not\",\n",
        "    \"hadn't\": \"had not\",\n",
        "    \"hadn't've\": \"had not have\",\n",
        "    \"hasn't\": \"has not\",\n",
        "    \"haven't\": \"have not\",\n",
        "    \"he'd\": \"he would\",\n",
        "    \"he'd've\": \"he would have\",\n",
        "    \"he'll\": \"he will\",\n",
        "    \"he'll've\": \"he will have\",\n",
        "    \"he's\": \"he is\",\n",
        "    \"how'd\": \"how did\",\n",
        "    \"how'd'y\": \"how do you\",\n",
        "    \"how'll\": \"how will\",\n",
        "    \"how's\": \"how is\",\n",
        "    \"i'd\": \"i would\",\n",
        "    \"i'd've\": \"i would have\",\n",
        "    \"i'll\": \"i will\",\n",
        "    \"i'll've\": \"i will have\",\n",
        "    \"i'm\": \"i am\",\n",
        "    \"i've\": \"i have\",\n",
        "    \"isn't\": \"is not\",\n",
        "    \"it'd\": \"it would\",\n",
        "    \"it'd've\": \"it would have\",\n",
        "    \"it'll\": \"it will\",\n",
        "    \"it'll've\": \"it will have\",\n",
        "    \"it's\": \"it is\",\n",
        "    \"let's\": \"let us\",\n",
        "    \"ma'am\": \"madam\",\n",
        "    \"mayn't\": \"may not\",\n",
        "    \"might've\": \"might have\",\n",
        "    \"mightn't\": \"might not\",\n",
        "    \"mightn't've\": \"might not have\",\n",
        "    \"must've\": \"must have\",\n",
        "    \"mustn't\": \"must not\",\n",
        "    \"mustn't've\": \"must not have\",\n",
        "    \"needn't\": \"need not\",\n",
        "    \"needn't've\": \"need not have\",\n",
        "    \"o'clock\": \"of the clock\",\n",
        "    \"oughtn't\": \"ought not\",\n",
        "    \"oughtn't've\": \"ought not have\",\n",
        "    \"shan't\": \"shall not\",\n",
        "    \"sha'n't\": \"shall not\",\n",
        "    \"shan't've\": \"shall not have\",\n",
        "    \"she'd\": \"she would\",\n",
        "    \"she'd've\": \"she would have\",\n",
        "    \"she'll\": \"she will\",\n",
        "    \"she'll've\": \"she will have\",\n",
        "    \"she's\": \"she is\",\n",
        "    \"should've\": \"should have\",\n",
        "    \"shouldn't\": \"should not\",\n",
        "    \"shouldn't've\": \"should not have\",\n",
        "    \"so've\": \"so have\",\n",
        "    \"so's\": \"so as\",\n",
        "    \"that'd\": \"that would\",\n",
        "    \"that'd've\": \"that would have\",\n",
        "    \"that's\": \"that is\",\n",
        "    \"there'd\": \"there would\",\n",
        "    \"there'd've\": \"there would have\",\n",
        "    \"there's\": \"there is\",\n",
        "    \"they'd\": \"they would\",\n",
        "    \"they'd've\": \"they would have\",\n",
        "    \"they'll\": \"they will\",\n",
        "    \"they'll've\": \"they will have\",\n",
        "    \"they're\": \"they are\",\n",
        "    \"they've\": \"they have\",\n",
        "    \"to've\": \"to have\",\n",
        "    \"wasn't\": \"was not\",\n",
        "    \"we'd\": \"we would\",\n",
        "    \"we'd've\": \"we would have\",\n",
        "    \"we'll\": \"we will\",\n",
        "    \"we'll've\": \"we will have\",\n",
        "    \"we're\": \"we are\",\n",
        "    \"we've\": \"we have\",\n",
        "    \"weren't\": \"were not\",\n",
        "    \"what'll\": \"what will\",\n",
        "    \"what'll've\": \"what will have\",\n",
        "    \"what're\": \"what are\",\n",
        "    \"what's\": \"what is\",\n",
        "    \"what've\": \"what have\",\n",
        "    \"when's\": \"when is\",\n",
        "    \"when've\": \"when have\",\n",
        "    \"where'd\": \"where did\",\n",
        "    \"where's\": \"where is\",\n",
        "    \"where've\": \"where have\",\n",
        "    \"who'll\": \"who will\",\n",
        "    \"who'll've\": \"who will have\",\n",
        "    \"who's\": \"who is\",\n",
        "    \"who've\": \"who have\",\n",
        "    \"why's\": \"why is\",\n",
        "    \"why've\": \"why have\",\n",
        "    \"will've\": \"will have\",\n",
        "    \"won't\": \"will not\",\n",
        "    \"won't've\": \"will not have\",\n",
        "    \"would've\": \"would have\",\n",
        "    \"wouldn't\": \"would not\",\n",
        "    \"wouldn't've\": \"would not have\",\n",
        "    \"y'all\": \"you all\",\n",
        "    \"y'all'd\": \"you all would\",\n",
        "    \"y'all'd've\": \"you all would have\",\n",
        "    \"y'all're\": \"you all are\",\n",
        "    \"y'all've\": \"you all have\",\n",
        "    \"you'd\": \"you would\",\n",
        "    \"you'd've\": \"you would have\",\n",
        "    \"you'll\": \"you will\",\n",
        "    \"you'll've\": \"you will have\",\n",
        "    \"you're\": \"you are\",\n",
        "    \"you've\": \"you have\"\n",
        "    }\n",
        "\n",
        "    decontracted_ques = []\n",
        "\n",
        "    for word in ques.split():\n",
        "      if word in contractions:\n",
        "        word = contractions[word]\n",
        "      decontracted_ques.append(word)\n",
        "    \n",
        "    ques = ' '.join(decontracted_ques)\n",
        "    ques = ques.replace(\"'ve\", \" have\")\n",
        "    ques = ques.replace(\"n't\", \" not\")\n",
        "    ques = ques.replace(\"'re\", \" are\")\n",
        "    ques = ques.replace(\"'ll\", \" will\")\n",
        "    ques = re.sub(r\"[^A-Za-z0-9]\", \" \", ques)\n",
        "    ques = re.sub('[,\\.\\(\\)?\"\\']',\" \",ques)\n",
        "    ques = re.sub(r\"what's\", \"\", ques)\n",
        "    ques = re.sub(r\"What's\", \"\", ques)\n",
        "    ques = re.sub(r\"\\'s\", \" \", ques)\n",
        "    ques = re.sub(r\"\\'ve\", \" have \", ques)\n",
        "    ques = re.sub(r\"can't\", \"cannot \", ques)\n",
        "    ques = re.sub(r\"n't\", \" not \", ques)\n",
        "    ques = re.sub(r\"I'm\", \"I am\", ques)\n",
        "    ques = re.sub(r\" m \", \" am \", ques)\n",
        "    ques = re.sub(r\"\\'re\", \" are \", ques)\n",
        "    ques = re.sub(r\"\\'d\", \" would \", ques)\n",
        "    ques = re.sub(r\"\\'ll\", \" will \", ques)\n",
        "    ques = re.sub(r\"\\0k \", \"0000 \", ques)\n",
        "    ques = re.sub(r\" e g \", \" eg \", ques)\n",
        "    ques = re.sub(r\" b g \", \" bg \", ques)\n",
        "    ques = re.sub(r\"\\0s\", \"0\", ques)\n",
        "    ques = re.sub(r\" 9 11 \", \"911\", ques)\n",
        "    ques = re.sub(r\"e-mail\", \"email\", ques)\n",
        "    ques = re.sub(r\"\\s{2,}\", \" \", ques)\n",
        "    ques = re.sub(r\"quikly\", \"quickly\", ques)\n",
        "    ques = re.sub(r\" usa \", \" America \", ques)\n",
        "    ques = re.sub(r\" USA \", \" America \", ques)\n",
        "    ques = re.sub(r\" u s \", \" America \", ques)\n",
        "    ques = re.sub(r\" uk \", \" England \", ques)\n",
        "    ques = re.sub(r\" UK \", \" England \", ques)\n",
        "    ques = re.sub(r\"india\", \"India\", ques)\n",
        "    ques = re.sub(r\"china\", \"China\", ques)\n",
        "    ques = re.sub(r\"chinese\", \"Chinese\", ques) \n",
        "    ques = re.sub(r\"imrovement\", \"improvement\", ques)\n",
        "    ques = re.sub(r\"intially\", \"initially\", ques)\n",
        "    ques = re.sub(r\"quora\", \"Quora\", ques)\n",
        "    ques = re.sub(r\" dms \", \"direct messages \", ques)  \n",
        "    ques = re.sub(r\"demonitization\", \"demonetization\", ques) \n",
        "    ques = re.sub(r\"actived\", \"active\", ques)\n",
        "    ques = re.sub(r\"kms\", \" kilometers \", ques)\n",
        "    ques = re.sub(r\"KMs\", \" kilometers \", ques)\n",
        "    ques = re.sub(r\" cs \", \" computer science \", ques) \n",
        "    ques = re.sub(r\" upvotes \", \" up votes \", ques)\n",
        "    ques = re.sub(r\" iPhone \", \" phone \", ques)\n",
        "    ques = re.sub(r\"\\0rs \", \" rs \", ques) \n",
        "    ques = re.sub(r\"calender\", \"calendar\", ques)\n",
        "    ques = re.sub(r\"ios\", \"operating system\", ques)\n",
        "    ques = re.sub(r\"gps\", \"GPS\", ques)\n",
        "    ques = re.sub(r\"gst\", \"GST\", ques)\n",
        "    ques = re.sub(r\"programing\", \"programming\", ques)\n",
        "    ques = re.sub(r\"bestfriend\", \"best friend\", ques)\n",
        "    ques = re.sub(r\"dna\", \"DNA\", ques)\n",
        "    ques = re.sub(r\"III\", \"3\", ques) \n",
        "    ques = re.sub(r\"the US\", \"America\", ques)\n",
        "    ques = re.sub(r\"Astrology\", \"astrology\", ques)\n",
        "    ques = re.sub(r\"Method\", \"method\", ques)\n",
        "    ques = re.sub(r\"Find\", \"find\", ques) \n",
        "    ques = re.sub(r\"banglore\", \"Banglore\", ques)\n",
        "    ques = re.sub(r\" J K \", \" JK \", ques)\n",
        "\n",
        "    # Eliminate HTML tags\n",
        "    ques = BeautifulSoup(ques)\n",
        "    ques = ques.get_text()\n",
        "\n",
        "    # Remove punctuation characters\n",
        "    pattern = re.compile('\\W')\n",
        "    ques = re.sub(pattern,' ',ques).strip()\n",
        "    \n",
        "    return ques"
      ]
    },
    {
      "cell_type": "code",
      "execution_count": null,
      "metadata": {
        "id": "aTGxaQ0BzsF-"
      },
      "outputs": [],
      "source": []
    },
    {
      "cell_type": "code",
      "execution_count": null,
      "metadata": {
        "id": "2zn6Mg2npbq2"
      },
      "outputs": [],
      "source": [
        "\n",
        "\n",
        "#define a function for data preprocessing (its argument is data frame column) (we'll call it twice later, one for each column)\n",
        "def data_prep(column):\n",
        "\n",
        "    # Create a new column to store the cleaned data\n",
        "    column_name = column.name + \"_cleaned\"\n",
        "    df[column_name] = \"\"\n",
        "\n",
        "    # loop iterating each row in the column\n",
        "    for index, row in column.iteritems():\n",
        "        \n",
        "        # Split into words\n",
        "        from nltk.tokenize import word_tokenize\n",
        "        words = word_tokenize(row)\n",
        "\n",
        "        # normalize case\n",
        "        words = [word.lower() for word in words]\n",
        "\n",
        "        # Remove punctuation\n",
        "        import string\n",
        "        table = str.maketrans('', '', string.punctuation)\n",
        "        stripped = [w.translate(table) for w in words]\n",
        "        \n",
        "        # Remove non-alphabetic tokens\n",
        "        words = [word for word in stripped if word.isalpha()]\n",
        "\n",
        "        # remove stop words\n",
        "        ## NLTK stopwords is removing too many words, so we'll use their list but remove the ones that are too important\n",
        "        from nltk.corpus import stopwords\n",
        "        stop_words = set(stopwords.words('english'))\n",
        "\n",
        "        # Remove stop words that are too important for our purpose\n",
        "        # stop_words.remove('no')\n",
        "\n",
        "        words = [w for w in words if not w in stop_words]\n",
        "\n",
        "        # Stemming\n",
        "        # from nltk.stem.porter import PorterStemmer\n",
        "        # porter = PorterStemmer()\n",
        "        # stemmed = [porter.stem(word) for word in words]\n",
        "\n",
        "        # Alternative: Lemmatization\n",
        "        from nltk.stem import WordNetLemmatizer\n",
        "        lemmatizer = WordNetLemmatizer()\n",
        "        lemmatized = [lemmatizer.lemmatize(word) for word in words]\n",
        "\n",
        "\n",
        "\n",
        "        # Join the words back into one string separated by space, and store in new column\n",
        "        # df.at[index, column_name] = \" \".join(stemmed)\n",
        "        df.at[index, column_name] = \" \".join(lemmatized)"
      ]
    },
    {
      "cell_type": "code",
      "execution_count": null,
      "metadata": {
        "colab": {
          "base_uri": "https://localhost:8080/"
        },
        "id": "XLfhmwlnpbq2",
        "outputId": "09694eb8-4669-4270-bb67-418fde62fd98"
      },
      "outputs": [
        {
          "output_type": "stream",
          "name": "stderr",
          "text": [
            "<ipython-input-28-7bcf94d46dd4>:9: FutureWarning: iteritems is deprecated and will be removed in a future version. Use .items instead.\n",
            "  for index, row in column.iteritems():\n",
            "<ipython-input-28-7bcf94d46dd4>:9: FutureWarning: iteritems is deprecated and will be removed in a future version. Use .items instead.\n",
            "  for index, row in column.iteritems():\n"
          ]
        }
      ],
      "source": [
        "# apply data_prep function on 'question1' and 'question2' columns\n",
        "data_prep(df['question1'])\n",
        "data_prep(df['question2'])\n"
      ]
    },
    {
      "cell_type": "code",
      "execution_count": null,
      "metadata": {
        "id": "ZpXfusDw4ZuI",
        "colab": {
          "base_uri": "https://localhost:8080/",
          "height": 423
        },
        "outputId": "773486aa-cef9-42f4-e42e-11cef544ff3a"
      },
      "outputs": [
        {
          "output_type": "execute_result",
          "data": {
            "text/plain": [
              "   id  qid1  qid2  \\\n",
              "0  0   1     2      \n",
              "1  1   3     4      \n",
              "2  2   5     6      \n",
              "3  3   7     8      \n",
              "4  4   9     10     \n",
              "\n",
              "                                                                      question1  \\\n",
              "0  What is the step by step guide to invest in share market in india?             \n",
              "1  What is the story of Kohinoor (Koh-i-Noor) Diamond?                            \n",
              "2  How can I increase the speed of my internet connection while using a VPN?      \n",
              "3  Why am I mentally very lonely? How can I solve it?                             \n",
              "4  Which one dissolve in water quikly sugar, salt, methane and carbon di oxide?   \n",
              "\n",
              "                                                                                  question2  \\\n",
              "0  What is the step by step guide to invest in share market?                                  \n",
              "1  What would happen if the Indian government stole the Kohinoor (Koh-i-Noor) diamond back?   \n",
              "2  How can Internet speed be increased by hacking through DNS?                                \n",
              "3  Find the remainder when [math]23^{24}[/math] is divided by 24,23?                          \n",
              "4  Which fish would survive in salt water?                                                    \n",
              "\n",
              "   is_duplicate                                             question1_cleaned  \\\n",
              "0  0             step step guide invest share market india                      \n",
              "1  0             story kohinoor kohinoor diamond                                \n",
              "2  0             increase speed internet connection using vpn                   \n",
              "3  0             mentally lonely solve                                          \n",
              "4  0             one dissolve water quikly sugar salt methane carbon di oxide   \n",
              "\n",
              "                                                     question2_cleaned  \n",
              "0  step step guide invest share market                                  \n",
              "1  would happen indian government stole kohinoor kohinoor diamond back  \n",
              "2  internet speed increased hacking dns                                 \n",
              "3  find remainder math math divided                                     \n",
              "4  fish would survive salt water                                        "
            ],
            "text/html": [
              "\n",
              "  <div id=\"df-b668781f-150d-4039-992d-e011321aae50\">\n",
              "    <div class=\"colab-df-container\">\n",
              "      <div>\n",
              "<style scoped>\n",
              "    .dataframe tbody tr th:only-of-type {\n",
              "        vertical-align: middle;\n",
              "    }\n",
              "\n",
              "    .dataframe tbody tr th {\n",
              "        vertical-align: top;\n",
              "    }\n",
              "\n",
              "    .dataframe thead th {\n",
              "        text-align: right;\n",
              "    }\n",
              "</style>\n",
              "<table border=\"1\" class=\"dataframe\">\n",
              "  <thead>\n",
              "    <tr style=\"text-align: right;\">\n",
              "      <th></th>\n",
              "      <th>id</th>\n",
              "      <th>qid1</th>\n",
              "      <th>qid2</th>\n",
              "      <th>question1</th>\n",
              "      <th>question2</th>\n",
              "      <th>is_duplicate</th>\n",
              "      <th>question1_cleaned</th>\n",
              "      <th>question2_cleaned</th>\n",
              "    </tr>\n",
              "  </thead>\n",
              "  <tbody>\n",
              "    <tr>\n",
              "      <th>0</th>\n",
              "      <td>0</td>\n",
              "      <td>1</td>\n",
              "      <td>2</td>\n",
              "      <td>What is the step by step guide to invest in share market in india?</td>\n",
              "      <td>What is the step by step guide to invest in share market?</td>\n",
              "      <td>0</td>\n",
              "      <td>step step guide invest share market india</td>\n",
              "      <td>step step guide invest share market</td>\n",
              "    </tr>\n",
              "    <tr>\n",
              "      <th>1</th>\n",
              "      <td>1</td>\n",
              "      <td>3</td>\n",
              "      <td>4</td>\n",
              "      <td>What is the story of Kohinoor (Koh-i-Noor) Diamond?</td>\n",
              "      <td>What would happen if the Indian government stole the Kohinoor (Koh-i-Noor) diamond back?</td>\n",
              "      <td>0</td>\n",
              "      <td>story kohinoor kohinoor diamond</td>\n",
              "      <td>would happen indian government stole kohinoor kohinoor diamond back</td>\n",
              "    </tr>\n",
              "    <tr>\n",
              "      <th>2</th>\n",
              "      <td>2</td>\n",
              "      <td>5</td>\n",
              "      <td>6</td>\n",
              "      <td>How can I increase the speed of my internet connection while using a VPN?</td>\n",
              "      <td>How can Internet speed be increased by hacking through DNS?</td>\n",
              "      <td>0</td>\n",
              "      <td>increase speed internet connection using vpn</td>\n",
              "      <td>internet speed increased hacking dns</td>\n",
              "    </tr>\n",
              "    <tr>\n",
              "      <th>3</th>\n",
              "      <td>3</td>\n",
              "      <td>7</td>\n",
              "      <td>8</td>\n",
              "      <td>Why am I mentally very lonely? How can I solve it?</td>\n",
              "      <td>Find the remainder when [math]23^{24}[/math] is divided by 24,23?</td>\n",
              "      <td>0</td>\n",
              "      <td>mentally lonely solve</td>\n",
              "      <td>find remainder math math divided</td>\n",
              "    </tr>\n",
              "    <tr>\n",
              "      <th>4</th>\n",
              "      <td>4</td>\n",
              "      <td>9</td>\n",
              "      <td>10</td>\n",
              "      <td>Which one dissolve in water quikly sugar, salt, methane and carbon di oxide?</td>\n",
              "      <td>Which fish would survive in salt water?</td>\n",
              "      <td>0</td>\n",
              "      <td>one dissolve water quikly sugar salt methane carbon di oxide</td>\n",
              "      <td>fish would survive salt water</td>\n",
              "    </tr>\n",
              "  </tbody>\n",
              "</table>\n",
              "</div>\n",
              "      <button class=\"colab-df-convert\" onclick=\"convertToInteractive('df-b668781f-150d-4039-992d-e011321aae50')\"\n",
              "              title=\"Convert this dataframe to an interactive table.\"\n",
              "              style=\"display:none;\">\n",
              "        \n",
              "  <svg xmlns=\"http://www.w3.org/2000/svg\" height=\"24px\"viewBox=\"0 0 24 24\"\n",
              "       width=\"24px\">\n",
              "    <path d=\"M0 0h24v24H0V0z\" fill=\"none\"/>\n",
              "    <path d=\"M18.56 5.44l.94 2.06.94-2.06 2.06-.94-2.06-.94-.94-2.06-.94 2.06-2.06.94zm-11 1L8.5 8.5l.94-2.06 2.06-.94-2.06-.94L8.5 2.5l-.94 2.06-2.06.94zm10 10l.94 2.06.94-2.06 2.06-.94-2.06-.94-.94-2.06-.94 2.06-2.06.94z\"/><path d=\"M17.41 7.96l-1.37-1.37c-.4-.4-.92-.59-1.43-.59-.52 0-1.04.2-1.43.59L10.3 9.45l-7.72 7.72c-.78.78-.78 2.05 0 2.83L4 21.41c.39.39.9.59 1.41.59.51 0 1.02-.2 1.41-.59l7.78-7.78 2.81-2.81c.8-.78.8-2.07 0-2.86zM5.41 20L4 18.59l7.72-7.72 1.47 1.35L5.41 20z\"/>\n",
              "  </svg>\n",
              "      </button>\n",
              "      \n",
              "  <style>\n",
              "    .colab-df-container {\n",
              "      display:flex;\n",
              "      flex-wrap:wrap;\n",
              "      gap: 12px;\n",
              "    }\n",
              "\n",
              "    .colab-df-convert {\n",
              "      background-color: #E8F0FE;\n",
              "      border: none;\n",
              "      border-radius: 50%;\n",
              "      cursor: pointer;\n",
              "      display: none;\n",
              "      fill: #1967D2;\n",
              "      height: 32px;\n",
              "      padding: 0 0 0 0;\n",
              "      width: 32px;\n",
              "    }\n",
              "\n",
              "    .colab-df-convert:hover {\n",
              "      background-color: #E2EBFA;\n",
              "      box-shadow: 0px 1px 2px rgba(60, 64, 67, 0.3), 0px 1px 3px 1px rgba(60, 64, 67, 0.15);\n",
              "      fill: #174EA6;\n",
              "    }\n",
              "\n",
              "    [theme=dark] .colab-df-convert {\n",
              "      background-color: #3B4455;\n",
              "      fill: #D2E3FC;\n",
              "    }\n",
              "\n",
              "    [theme=dark] .colab-df-convert:hover {\n",
              "      background-color: #434B5C;\n",
              "      box-shadow: 0px 1px 3px 1px rgba(0, 0, 0, 0.15);\n",
              "      filter: drop-shadow(0px 1px 2px rgba(0, 0, 0, 0.3));\n",
              "      fill: #FFFFFF;\n",
              "    }\n",
              "  </style>\n",
              "\n",
              "      <script>\n",
              "        const buttonEl =\n",
              "          document.querySelector('#df-b668781f-150d-4039-992d-e011321aae50 button.colab-df-convert');\n",
              "        buttonEl.style.display =\n",
              "          google.colab.kernel.accessAllowed ? 'block' : 'none';\n",
              "\n",
              "        async function convertToInteractive(key) {\n",
              "          const element = document.querySelector('#df-b668781f-150d-4039-992d-e011321aae50');\n",
              "          const dataTable =\n",
              "            await google.colab.kernel.invokeFunction('convertToInteractive',\n",
              "                                                     [key], {});\n",
              "          if (!dataTable) return;\n",
              "\n",
              "          const docLinkHtml = 'Like what you see? Visit the ' +\n",
              "            '<a target=\"_blank\" href=https://colab.research.google.com/notebooks/data_table.ipynb>data table notebook</a>'\n",
              "            + ' to learn more about interactive tables.';\n",
              "          element.innerHTML = '';\n",
              "          dataTable['output_type'] = 'display_data';\n",
              "          await google.colab.output.renderOutput(dataTable, element);\n",
              "          const docLink = document.createElement('div');\n",
              "          docLink.innerHTML = docLinkHtml;\n",
              "          element.appendChild(docLink);\n",
              "        }\n",
              "      </script>\n",
              "    </div>\n",
              "  </div>\n",
              "  "
            ]
          },
          "metadata": {},
          "execution_count": 30
        }
      ],
      "source": [
        "df.head()"
      ]
    },
    {
      "cell_type": "code",
      "execution_count": null,
      "metadata": {
        "colab": {
          "base_uri": "https://localhost:8080/"
        },
        "id": "_XwMNE_84itv",
        "outputId": "b2e22275-af2b-44c3-a37a-020e16564306"
      },
      "outputs": [
        {
          "name": "stderr",
          "output_type": "stream",
          "text": [
            "<ipython-input-301-6ae39c81620a>:2: FutureWarning: The default value of regex will change from True to False in a future version. In addition, single character regular expressions will *not* be treated as literal strings when regex=True.\n",
            "  df['question1'] = df['question1'].str.replace('?', '')\n",
            "<ipython-input-301-6ae39c81620a>:3: FutureWarning: The default value of regex will change from True to False in a future version. In addition, single character regular expressions will *not* be treated as literal strings when regex=True.\n",
            "  df['question2'] = df['question2'].str.replace('?', '')\n"
          ]
        }
      ],
      "source": [
        "# Remove question marks from questions\n",
        "df['question1'] = df['question1'].str.replace('?', '')\n",
        "df['question2'] = df['question2'].str.replace('?', '')"
      ]
    },
    {
      "cell_type": "code",
      "execution_count": null,
      "metadata": {
        "id": "_uAhTAB44jbf"
      },
      "outputs": [],
      "source": [
        "# Step above took a while, so let's save the results to a csv file\n",
        "df.to_csv(\"train_cleaned.csv\", index=False)"
      ]
    },
    {
      "cell_type": "code",
      "execution_count": null,
      "metadata": {
        "id": "fk6IaM4c4j73"
      },
      "outputs": [],
      "source": []
    },
    {
      "cell_type": "markdown",
      "metadata": {
        "id": "Z--zF1uOpbq3"
      },
      "source": [
        "### Feature Engineering\n",
        "\n",
        "- tf-idf\n",
        "- word2vec\n",
        "- word count\n",
        "- number of the same words in both questions\n",
        "- ...."
      ]
    },
    {
      "cell_type": "code",
      "execution_count": null,
      "metadata": {
        "id": "Hg5eyb24pbq3"
      },
      "outputs": [],
      "source": [
        "# Ratio of words in one question that are also in the other question\n",
        "\n",
        "# Create a new feature:number of words is common in 2 questions divided by len of first question. if none, return 0\n",
        "df['ratio_words_q1'] = df.apply(lambda row: len(set(row['question1_cleaned'].split()).intersection(set(row['question2_cleaned'].split()))) / len(set(row['question1_cleaned'].split())) if len(set(row['question1_cleaned'].split())) > 0 else 0, axis=1)\n",
        "\n",
        "# Create a new feature:number of words is common in 2 questions divided by len of second question. if none, return 0\n",
        "df['ratio_words_q2'] = df.apply(lambda row: len(set(row['question2_cleaned'].split()).intersection(set(row['question1_cleaned'].split()))) / len(set(row['question2_cleaned'].split())) if len(set(row['question2_cleaned'].split())) > 0 else 0, axis=1)\n"
      ]
    },
    {
      "cell_type": "code",
      "execution_count": null,
      "metadata": {
        "id": "fKkqQ9T5pbq3"
      },
      "outputs": [],
      "source": [
        "# Ratio of words in one question that are also in the other question (full question, not cleaned)\n",
        "\n",
        "#Create a full_ratio_words_q1 column and full_ratio_words_q2 column.they are the ratio of common words to the length of full question (question1 & question2)\n",
        "df['full_ratio_words_q1'] = df.apply(lambda row: len(set(row['question1'].split()).intersection(set(row['question2'].split()))) / len(set(row['question1'].split())) if len(set(row['question1'].split())) > 0 else 0, axis=1)\n",
        "df['full_ratio_words_q2'] = df.apply(lambda row: len(set(row['question2'].split()).intersection(set(row['question1'].split()))) / len(set(row['question2'].split())) if len(set(row['question2'].split())) > 0 else 0, axis=1)\n"
      ]
    },
    {
      "cell_type": "code",
      "execution_count": null,
      "metadata": {
        "id": "eksLnwUqpbq4"
      },
      "outputs": [],
      "source": [
        "## List of words that is in one question that are not in the other question\n",
        "\n",
        "# Create a column with the words that are in question1 but not in question2\n",
        "df['q1_not_q2'] = df.apply(lambda row: set(row['question1_cleaned'].split()).difference(set(row['question2_cleaned'].split())), axis=1)\n",
        "\n",
        "# Create a column with the words that are in question2 but not in question1\n",
        "df['q2_not_q1'] = df.apply(lambda row: set(row['question2_cleaned'].split()).difference(set(row['question1_cleaned'].split())), axis=1)"
      ]
    },
    {
      "cell_type": "code",
      "execution_count": null,
      "metadata": {
        "id": "UamfRaXEpbq4"
      },
      "outputs": [],
      "source": [
        "## List of words in one question that are not in the other question (full question, not cleaned)\n",
        "\n",
        "# Create a column with the wods that are in question1 but not in question2\n",
        "df['full_q1_not_q2'] = df.apply(lambda row: set(row['question1'].split()).difference(set(row['question2'].split())), axis=1)\n",
        "\n",
        "# Create a column with the wods that are in question2 but not in question1\n",
        "df['full_q2_not_q1'] = df.apply(lambda row: set(row['question2'].split()).difference(set(row['question1'].split())), axis=1)"
      ]
    },
    {
      "cell_type": "code",
      "execution_count": null,
      "metadata": {
        "id": "IkDTvTw56fgq"
      },
      "outputs": [],
      "source": [
        "# Create a column with the number of words in question1 and question2\n",
        "df['q1_words'] = df.apply(lambda row: len(row['question1'].split()), axis=1)\n",
        "\n",
        "df['q2_words'] = df.apply(lambda row: len(row['question2'].split()), axis=1)"
      ]
    },
    {
      "cell_type": "code",
      "execution_count": null,
      "metadata": {
        "colab": {
          "base_uri": "https://localhost:8080/",
          "height": 686
        },
        "id": "24SXma_k6f_y",
        "outputId": "a3f13ef8-012e-4770-ed77-a5b74dffc3ca"
      },
      "outputs": [
        {
          "output_type": "execute_result",
          "data": {
            "text/plain": [
              "            id    qid1    qid2  \\\n",
              "220305  220305  265969  327380   \n",
              "210120  210120  314581   71325   \n",
              "187652  187652  285960  285961   \n",
              "209816  209816  314197  314198   \n",
              "96660    96660  160975  160976   \n",
              "\n",
              "                                                                                                  question1  \\\n",
              "220305  What are some things new employees should know going into their first day at Spectrum Pharmaceut...   \n",
              "210120  What are the strongest majors in terms of job prospects and what are the weakest majors at Phila...   \n",
              "187652                                                            What branch can I get in SRM main campus?   \n",
              "209816                                                                     What is the \"10-58\" police code?   \n",
              "96660                                                                              Why are people insecure?   \n",
              "\n",
              "                                                                                                  question2  \\\n",
              "220305  What are some things new employees should know going into their first day at Lexicon Pharmaceuti...   \n",
              "210120  What are the strongest majors in terms of job prospects and what are the weakest majors at Buckn...   \n",
              "187652                                        What branch can I get in the SRM main campus with a 16k rank?   \n",
              "209816                                                                     What is the \"10-81\" police code?   \n",
              "96660                                                                             What are insecure people?   \n",
              "\n",
              "        is_duplicate  \\\n",
              "220305             0   \n",
              "210120             0   \n",
              "187652             0   \n",
              "209816             0   \n",
              "96660              0   \n",
              "\n",
              "                                                              question1_cleaned  \\\n",
              "220305          thing new employee know going first day spectrum pharmaceutical   \n",
              "210120  strongest major term job prospect weakest major philadelphia university   \n",
              "187652                                               branch get srm main campus   \n",
              "209816                                                              police code   \n",
              "96660                                                           people insecure   \n",
              "\n",
              "                                                          question2_cleaned  \\\n",
              "220305       thing new employee know going first day lexicon pharmaceutical   \n",
              "210120  strongest major term job prospect weakest major bucknell university   \n",
              "187652                                      branch get srm main campus rank   \n",
              "209816                                                          police code   \n",
              "96660                                                       insecure people   \n",
              "\n",
              "        ratio_words_q1  ratio_words_q2  full_ratio_words_q1  \\\n",
              "220305        0.888889        0.888889             0.937500   \n",
              "210120        0.875000        0.875000             0.937500   \n",
              "187652        1.000000        0.833333             0.888889   \n",
              "209816        1.000000        1.000000             0.833333   \n",
              "96660         1.000000        1.000000             0.250000   \n",
              "\n",
              "        full_ratio_words_q2       q1_not_q2   q2_not_q1  \\\n",
              "220305             0.937500      {spectrum}   {lexicon}   \n",
              "210120             0.937500  {philadelphia}  {bucknell}   \n",
              "187652             0.571429              {}      {rank}   \n",
              "209816             0.833333              {}          {}   \n",
              "96660              0.250000              {}          {}   \n",
              "\n",
              "                  full_q1_not_q2                      full_q2_not_q1  \\\n",
              "220305                {Spectrum}                           {Lexicon}   \n",
              "210120            {Philadelphia}                          {Bucknell}   \n",
              "187652                 {campus?}  {16k, rank?, the, campus, with, a}   \n",
              "209816                 {\"10-58\"}                           {\"10-81\"}   \n",
              "96660   {insecure?, people, Why}           {people?, What, insecure}   \n",
              "\n",
              "        q1_words  q2_words  \n",
              "220305        16        16  \n",
              "210120        19        19  \n",
              "187652         9        14  \n",
              "209816         6         6  \n",
              "96660          4         4  "
            ],
            "text/html": [
              "\n",
              "  <div id=\"df-430025f7-e990-48b3-b060-4d3d14358a61\">\n",
              "    <div class=\"colab-df-container\">\n",
              "      <div>\n",
              "<style scoped>\n",
              "    .dataframe tbody tr th:only-of-type {\n",
              "        vertical-align: middle;\n",
              "    }\n",
              "\n",
              "    .dataframe tbody tr th {\n",
              "        vertical-align: top;\n",
              "    }\n",
              "\n",
              "    .dataframe thead th {\n",
              "        text-align: right;\n",
              "    }\n",
              "</style>\n",
              "<table border=\"1\" class=\"dataframe\">\n",
              "  <thead>\n",
              "    <tr style=\"text-align: right;\">\n",
              "      <th></th>\n",
              "      <th>id</th>\n",
              "      <th>qid1</th>\n",
              "      <th>qid2</th>\n",
              "      <th>question1</th>\n",
              "      <th>question2</th>\n",
              "      <th>is_duplicate</th>\n",
              "      <th>question1_cleaned</th>\n",
              "      <th>question2_cleaned</th>\n",
              "      <th>ratio_words_q1</th>\n",
              "      <th>ratio_words_q2</th>\n",
              "      <th>full_ratio_words_q1</th>\n",
              "      <th>full_ratio_words_q2</th>\n",
              "      <th>q1_not_q2</th>\n",
              "      <th>q2_not_q1</th>\n",
              "      <th>full_q1_not_q2</th>\n",
              "      <th>full_q2_not_q1</th>\n",
              "      <th>q1_words</th>\n",
              "      <th>q2_words</th>\n",
              "    </tr>\n",
              "  </thead>\n",
              "  <tbody>\n",
              "    <tr>\n",
              "      <th>220305</th>\n",
              "      <td>220305</td>\n",
              "      <td>265969</td>\n",
              "      <td>327380</td>\n",
              "      <td>What are some things new employees should know going into their first day at Spectrum Pharmaceut...</td>\n",
              "      <td>What are some things new employees should know going into their first day at Lexicon Pharmaceuti...</td>\n",
              "      <td>0</td>\n",
              "      <td>thing new employee know going first day spectrum pharmaceutical</td>\n",
              "      <td>thing new employee know going first day lexicon pharmaceutical</td>\n",
              "      <td>0.888889</td>\n",
              "      <td>0.888889</td>\n",
              "      <td>0.937500</td>\n",
              "      <td>0.937500</td>\n",
              "      <td>{spectrum}</td>\n",
              "      <td>{lexicon}</td>\n",
              "      <td>{Spectrum}</td>\n",
              "      <td>{Lexicon}</td>\n",
              "      <td>16</td>\n",
              "      <td>16</td>\n",
              "    </tr>\n",
              "    <tr>\n",
              "      <th>210120</th>\n",
              "      <td>210120</td>\n",
              "      <td>314581</td>\n",
              "      <td>71325</td>\n",
              "      <td>What are the strongest majors in terms of job prospects and what are the weakest majors at Phila...</td>\n",
              "      <td>What are the strongest majors in terms of job prospects and what are the weakest majors at Buckn...</td>\n",
              "      <td>0</td>\n",
              "      <td>strongest major term job prospect weakest major philadelphia university</td>\n",
              "      <td>strongest major term job prospect weakest major bucknell university</td>\n",
              "      <td>0.875000</td>\n",
              "      <td>0.875000</td>\n",
              "      <td>0.937500</td>\n",
              "      <td>0.937500</td>\n",
              "      <td>{philadelphia}</td>\n",
              "      <td>{bucknell}</td>\n",
              "      <td>{Philadelphia}</td>\n",
              "      <td>{Bucknell}</td>\n",
              "      <td>19</td>\n",
              "      <td>19</td>\n",
              "    </tr>\n",
              "    <tr>\n",
              "      <th>187652</th>\n",
              "      <td>187652</td>\n",
              "      <td>285960</td>\n",
              "      <td>285961</td>\n",
              "      <td>What branch can I get in SRM main campus?</td>\n",
              "      <td>What branch can I get in the SRM main campus with a 16k rank?</td>\n",
              "      <td>0</td>\n",
              "      <td>branch get srm main campus</td>\n",
              "      <td>branch get srm main campus rank</td>\n",
              "      <td>1.000000</td>\n",
              "      <td>0.833333</td>\n",
              "      <td>0.888889</td>\n",
              "      <td>0.571429</td>\n",
              "      <td>{}</td>\n",
              "      <td>{rank}</td>\n",
              "      <td>{campus?}</td>\n",
              "      <td>{16k, rank?, the, campus, with, a}</td>\n",
              "      <td>9</td>\n",
              "      <td>14</td>\n",
              "    </tr>\n",
              "    <tr>\n",
              "      <th>209816</th>\n",
              "      <td>209816</td>\n",
              "      <td>314197</td>\n",
              "      <td>314198</td>\n",
              "      <td>What is the \"10-58\" police code?</td>\n",
              "      <td>What is the \"10-81\" police code?</td>\n",
              "      <td>0</td>\n",
              "      <td>police code</td>\n",
              "      <td>police code</td>\n",
              "      <td>1.000000</td>\n",
              "      <td>1.000000</td>\n",
              "      <td>0.833333</td>\n",
              "      <td>0.833333</td>\n",
              "      <td>{}</td>\n",
              "      <td>{}</td>\n",
              "      <td>{\"10-58\"}</td>\n",
              "      <td>{\"10-81\"}</td>\n",
              "      <td>6</td>\n",
              "      <td>6</td>\n",
              "    </tr>\n",
              "    <tr>\n",
              "      <th>96660</th>\n",
              "      <td>96660</td>\n",
              "      <td>160975</td>\n",
              "      <td>160976</td>\n",
              "      <td>Why are people insecure?</td>\n",
              "      <td>What are insecure people?</td>\n",
              "      <td>0</td>\n",
              "      <td>people insecure</td>\n",
              "      <td>insecure people</td>\n",
              "      <td>1.000000</td>\n",
              "      <td>1.000000</td>\n",
              "      <td>0.250000</td>\n",
              "      <td>0.250000</td>\n",
              "      <td>{}</td>\n",
              "      <td>{}</td>\n",
              "      <td>{insecure?, people, Why}</td>\n",
              "      <td>{people?, What, insecure}</td>\n",
              "      <td>4</td>\n",
              "      <td>4</td>\n",
              "    </tr>\n",
              "  </tbody>\n",
              "</table>\n",
              "</div>\n",
              "      <button class=\"colab-df-convert\" onclick=\"convertToInteractive('df-430025f7-e990-48b3-b060-4d3d14358a61')\"\n",
              "              title=\"Convert this dataframe to an interactive table.\"\n",
              "              style=\"display:none;\">\n",
              "        \n",
              "  <svg xmlns=\"http://www.w3.org/2000/svg\" height=\"24px\"viewBox=\"0 0 24 24\"\n",
              "       width=\"24px\">\n",
              "    <path d=\"M0 0h24v24H0V0z\" fill=\"none\"/>\n",
              "    <path d=\"M18.56 5.44l.94 2.06.94-2.06 2.06-.94-2.06-.94-.94-2.06-.94 2.06-2.06.94zm-11 1L8.5 8.5l.94-2.06 2.06-.94-2.06-.94L8.5 2.5l-.94 2.06-2.06.94zm10 10l.94 2.06.94-2.06 2.06-.94-2.06-.94-.94-2.06-.94 2.06-2.06.94z\"/><path d=\"M17.41 7.96l-1.37-1.37c-.4-.4-.92-.59-1.43-.59-.52 0-1.04.2-1.43.59L10.3 9.45l-7.72 7.72c-.78.78-.78 2.05 0 2.83L4 21.41c.39.39.9.59 1.41.59.51 0 1.02-.2 1.41-.59l7.78-7.78 2.81-2.81c.8-.78.8-2.07 0-2.86zM5.41 20L4 18.59l7.72-7.72 1.47 1.35L5.41 20z\"/>\n",
              "  </svg>\n",
              "      </button>\n",
              "      \n",
              "  <style>\n",
              "    .colab-df-container {\n",
              "      display:flex;\n",
              "      flex-wrap:wrap;\n",
              "      gap: 12px;\n",
              "    }\n",
              "\n",
              "    .colab-df-convert {\n",
              "      background-color: #E8F0FE;\n",
              "      border: none;\n",
              "      border-radius: 50%;\n",
              "      cursor: pointer;\n",
              "      display: none;\n",
              "      fill: #1967D2;\n",
              "      height: 32px;\n",
              "      padding: 0 0 0 0;\n",
              "      width: 32px;\n",
              "    }\n",
              "\n",
              "    .colab-df-convert:hover {\n",
              "      background-color: #E2EBFA;\n",
              "      box-shadow: 0px 1px 2px rgba(60, 64, 67, 0.3), 0px 1px 3px 1px rgba(60, 64, 67, 0.15);\n",
              "      fill: #174EA6;\n",
              "    }\n",
              "\n",
              "    [theme=dark] .colab-df-convert {\n",
              "      background-color: #3B4455;\n",
              "      fill: #D2E3FC;\n",
              "    }\n",
              "\n",
              "    [theme=dark] .colab-df-convert:hover {\n",
              "      background-color: #434B5C;\n",
              "      box-shadow: 0px 1px 3px 1px rgba(0, 0, 0, 0.15);\n",
              "      filter: drop-shadow(0px 1px 2px rgba(0, 0, 0, 0.3));\n",
              "      fill: #FFFFFF;\n",
              "    }\n",
              "  </style>\n",
              "\n",
              "      <script>\n",
              "        const buttonEl =\n",
              "          document.querySelector('#df-430025f7-e990-48b3-b060-4d3d14358a61 button.colab-df-convert');\n",
              "        buttonEl.style.display =\n",
              "          google.colab.kernel.accessAllowed ? 'block' : 'none';\n",
              "\n",
              "        async function convertToInteractive(key) {\n",
              "          const element = document.querySelector('#df-430025f7-e990-48b3-b060-4d3d14358a61');\n",
              "          const dataTable =\n",
              "            await google.colab.kernel.invokeFunction('convertToInteractive',\n",
              "                                                     [key], {});\n",
              "          if (!dataTable) return;\n",
              "\n",
              "          const docLinkHtml = 'Like what you see? Visit the ' +\n",
              "            '<a target=\"_blank\" href=https://colab.research.google.com/notebooks/data_table.ipynb>data table notebook</a>'\n",
              "            + ' to learn more about interactive tables.';\n",
              "          element.innerHTML = '';\n",
              "          dataTable['output_type'] = 'display_data';\n",
              "          await google.colab.output.renderOutput(dataTable, element);\n",
              "          const docLink = document.createElement('div');\n",
              "          docLink.innerHTML = docLinkHtml;\n",
              "          element.appendChild(docLink);\n",
              "        }\n",
              "      </script>\n",
              "    </div>\n",
              "  </div>\n",
              "  "
            ]
          },
          "metadata": {},
          "execution_count": 37
        }
      ],
      "source": [
        "# Let's see a sample of the data where ratio_words_q1 is over 0.8 and ratio_words_q2 is over 0.8 and is_duplicate is 0\n",
        "pd.set_option('display.max_colwidth', 100)\n",
        "df[(df['ratio_words_q1'] > 0.8) & (df['ratio_words_q2'] > 0.8) & (df['is_duplicate'] == 0)].sample(5)"
      ]
    },
    {
      "cell_type": "code",
      "execution_count": null,
      "metadata": {
        "colab": {
          "base_uri": "https://localhost:8080/",
          "height": 832
        },
        "id": "t7mroU_m64SA",
        "outputId": "af4be778-7e75-43a7-8826-21997edda7fa"
      },
      "outputs": [
        {
          "output_type": "stream",
          "name": "stderr",
          "text": [
            "<ipython-input-38-f762faa2d37d>:4: UserWarning: \n",
            "\n",
            "`distplot` is a deprecated function and will be removed in seaborn v0.14.0.\n",
            "\n",
            "Please adapt your code to use either `displot` (a figure-level function with\n",
            "similar flexibility) or `histplot` (an axes-level function for histograms).\n",
            "\n",
            "For a guide to updating your code to use the new functions, please see\n",
            "https://gist.github.com/mwaskom/de44147ed2974457ad6372750bbe5751\n",
            "\n",
            "  sns.distplot(df[df['is_duplicate'] == 0]['ratio_words_q1'], label='Not Duplicate')\n",
            "<ipython-input-38-f762faa2d37d>:5: UserWarning: \n",
            "\n",
            "`distplot` is a deprecated function and will be removed in seaborn v0.14.0.\n",
            "\n",
            "Please adapt your code to use either `displot` (a figure-level function with\n",
            "similar flexibility) or `histplot` (an axes-level function for histograms).\n",
            "\n",
            "For a guide to updating your code to use the new functions, please see\n",
            "https://gist.github.com/mwaskom/de44147ed2974457ad6372750bbe5751\n",
            "\n",
            "  sns.distplot(df[df['is_duplicate'] == 1]['ratio_words_q1'], label='Duplicate')\n"
          ]
        },
        {
          "output_type": "display_data",
          "data": {
            "text/plain": [
              "<Figure size 640x480 with 1 Axes>"
            ],
            "image/png": "[encoded data removed]"
          },
          "metadata": {}
        }
      ],
      "source": [
        "#distribution plot of the ratio_words_q1 column based on is_duplicate\n",
        "import seaborn as sns\n",
        "import matplotlib.pyplot as plt\n",
        "sns.distplot(df[df['is_duplicate'] == 0]['ratio_words_q1'], label='Not Duplicate')\n",
        "sns.distplot(df[df['is_duplicate'] == 1]['ratio_words_q1'], label='Duplicate')\n",
        "plt.legend()\n",
        "plt.show()"
      ]
    },
    {
      "cell_type": "code",
      "execution_count": null,
      "metadata": {
        "colab": {
          "base_uri": "https://localhost:8080/",
          "height": 832
        },
        "id": "_F1d4Cl564GA",
        "outputId": "33c1d24f-88c5-49d2-c045-d1e409f5d8be"
      },
      "outputs": [
        {
          "output_type": "stream",
          "name": "stderr",
          "text": [
            "<ipython-input-39-8e45b84ffd4d>:4: UserWarning: \n",
            "\n",
            "`distplot` is a deprecated function and will be removed in seaborn v0.14.0.\n",
            "\n",
            "Please adapt your code to use either `displot` (a figure-level function with\n",
            "similar flexibility) or `histplot` (an axes-level function for histograms).\n",
            "\n",
            "For a guide to updating your code to use the new functions, please see\n",
            "https://gist.github.com/mwaskom/de44147ed2974457ad6372750bbe5751\n",
            "\n",
            "  sns.distplot(df[df['is_duplicate'] == 0]['full_ratio_words_q2'], label='Not Duplicate')\n",
            "<ipython-input-39-8e45b84ffd4d>:5: UserWarning: \n",
            "\n",
            "`distplot` is a deprecated function and will be removed in seaborn v0.14.0.\n",
            "\n",
            "Please adapt your code to use either `displot` (a figure-level function with\n",
            "similar flexibility) or `histplot` (an axes-level function for histograms).\n",
            "\n",
            "For a guide to updating your code to use the new functions, please see\n",
            "https://gist.github.com/mwaskom/de44147ed2974457ad6372750bbe5751\n",
            "\n",
            "  sns.distplot(df[df['is_duplicate'] == 1]['full_ratio_words_q2'], label='Duplicate')\n"
          ]
        },
        {
          "output_type": "display_data",
          "data": {
            "text/plain": [
              "<Figure size 640x480 with 1 Axes>"
            ],
            "image/png": "[encoded data removed]"
          },
          "metadata": {}
        }
      ],
      "source": [
        "#distribution plot of the ratio_words_q1 column based on is_duplicate\n",
        "import seaborn as sns\n",
        "import matplotlib.pyplot as plt\n",
        "sns.distplot(df[df['is_duplicate'] == 0]['full_ratio_words_q2'], label='Not Duplicate')\n",
        "sns.distplot(df[df['is_duplicate'] == 1]['full_ratio_words_q2'], label='Duplicate')\n",
        "plt.legend()\n",
        "plt.show()"
      ]
    },
    {
      "cell_type": "code",
      "execution_count": null,
      "metadata": {
        "id": "R4nwOlpH634p"
      },
      "outputs": [],
      "source": [
        "# Create a column that contains the words that are in full_q1_not_q2 but not in q1_not_q2 AND the words that are in full_q2_not_q1 but not in q2_not_q1\n",
        "df['stopwords1'] = df.apply(lambda row: row['full_q1_not_q2'].difference(row['q1_not_q2']), axis=1)\n",
        "df['stopwords2'] = df.apply(lambda row: row['full_q2_not_q1'].difference(row['q2_not_q1']), axis=1)\n",
        "\n",
        "# Create stopwords columns which is a concatenation of stopwords1 and stopwords2\n",
        "df['stopwords'] = df['stopwords1'].map(str) + df['stopwords2'].map(str)\n",
        "\n",
        "# Delete the two columns\n",
        "df.drop(['stopwords1', 'stopwords2'], axis=1, inplace=True)"
      ]
    },
    {
      "cell_type": "code",
      "execution_count": null,
      "metadata": {
        "id": "A6HM-u3I767v"
      },
      "outputs": [],
      "source": [
        "# Create a binary column that will be 1 if full_q1_not_q2 or full_q2_not_q1 contain numbers and 0 if not\n",
        "df['stopwords_contain_numbers'] = df.apply(lambda row: 1 if any(char.isdigit() for char in row['stopwords']) else 0, axis=1)"
      ]
    },
    {
      "cell_type": "code",
      "execution_count": null,
      "metadata": {
        "colab": {
          "base_uri": "https://localhost:8080/",
          "height": 877
        },
        "id": "qbEQhuGy765V",
        "outputId": "c2863d43-34f5-4764-9aa5-c4bd4414ee9e"
      },
      "outputs": [
        {
          "output_type": "execute_result",
          "data": {
            "text/plain": [
              "            id    qid1    qid2  \\\n",
              "94595    94595  156033  157937   \n",
              "138386  138386  220356  220357   \n",
              "366488  366488   11341    4044   \n",
              "143925  143925  227919  227920   \n",
              "366859  366859  497106  497107   \n",
              "\n",
              "                                                                                                  question1  \\\n",
              "94595   How should I approach someone who can install a 3g mobile tower on my land? What is the procedur...   \n",
              "138386                                  What kind of jobs could I get with a 4-year degree in architecture?   \n",
              "366488                                                                     How do I lose 20 kg in 2 months?   \n",
              "143925  What will happen if Trump wins enough votes to win the electoral college, but electors jump ship...   \n",
              "366859  What's the best way to spend $2,000 on SEM for a lead generation campaign for a new investment p...   \n",
              "\n",
              "                                                                                          question2  \\\n",
              "94595          How do I contact a mobile tower installation company for an installation in my land?   \n",
              "138386                          What kind of jobs could I get with a 2-year degree in architecture?   \n",
              "366488                                                               How can I lose weight quickly?   \n",
              "143925  What would happen if the electoral college voted for Hillary on Dec. 19th instead of Trump?   \n",
              "366859                                                        How do you invest in lead generation?   \n",
              "\n",
              "        is_duplicate  \\\n",
              "94595              1   \n",
              "138386             0   \n",
              "366488             0   \n",
              "143925             0   \n",
              "366859             0   \n",
              "\n",
              "                                                                        question1_cleaned  \\\n",
              "94595               approach someone install mobile tower land procedure install vodafone   \n",
              "138386                                             kind job could get degree architecture   \n",
              "366488                                                                      lose kg month   \n",
              "143925  happen trump win enough vote win electoral college elector jump ship vote hillary   \n",
              "366859                 best way spend sem lead generation campaign new investment product   \n",
              "\n",
              "                                                     question2_cleaned  \\\n",
              "94595      contact mobile tower installation company installation land   \n",
              "138386                          kind job could get degree architecture   \n",
              "366488                                             lose weight quickly   \n",
              "143925  would happen electoral college voted hillary dec instead trump   \n",
              "366859                                          invest lead generation   \n",
              "\n",
              "        ratio_words_q1  ratio_words_q2  full_ratio_words_q1  \\\n",
              "94595         0.375000        0.500000             0.333333   \n",
              "138386        1.000000        1.000000             0.923077   \n",
              "366488        0.333333        0.333333             0.333333   \n",
              "143925        0.454545        0.555556             0.285714   \n",
              "366859        0.200000        0.666667             0.058824   \n",
              "\n",
              "        full_ratio_words_q2  \\\n",
              "94595              0.500000   \n",
              "138386             0.923077   \n",
              "366488             0.500000   \n",
              "143925             0.375000   \n",
              "366859             0.142857   \n",
              "\n",
              "                                                          q1_not_q2  \\\n",
              "94595             {install, someone, procedure, vodafone, approach}   \n",
              "138386                                                           {}   \n",
              "366488                                                  {month, kg}   \n",
              "143925                     {jump, elector, ship, vote, win, enough}   \n",
              "366859  {campaign, best, investment, product, way, spend, sem, new}   \n",
              "\n",
              "                               q2_not_q1  \\\n",
              "94595   {installation, contact, company}   \n",
              "138386                                {}   \n",
              "366488                 {quickly, weight}   \n",
              "143925      {voted, dec, instead, would}   \n",
              "366859                          {invest}   \n",
              "\n",
              "                                                                                             full_q1_not_q2  \\\n",
              "94595       {to, install, who, What, is, someone, the, on, procedure, should, 3g, Vodafone,, approach, can}   \n",
              "138386                                                                                             {4-year}   \n",
              "366488                                                                         {20, 2, do, in, months?, kg}   \n",
              "143925  {Trump, to, jump, will, and, wins, electors, ship, but, votes, vote, Hillary?, win, enough, coll...   \n",
              "366859  {SEM, to, for, campaign, best, What's, investment, the, generation, way, spend, $2,000, a, on, n...   \n",
              "\n",
              "                                                               full_q2_not_q1  \\\n",
              "94595                       {for, company, in, do, an, installation, contact}   \n",
              "138386                                                               {2-year}   \n",
              "366488                                                {quickly?, can, weight}   \n",
              "143925  {Dec., Trump?, on, would, instead, 19th, voted, Hillary, college, of}   \n",
              "366859                                {generation?, do, in, invest, How, you}   \n",
              "\n",
              "        q1_words  q2_words  \\\n",
              "94595         22        15   \n",
              "138386        13        13   \n",
              "366488         9         6   \n",
              "143925        21        16   \n",
              "366859        19         7   \n",
              "\n",
              "                                                                                                  stopwords  \\\n",
              "94595   {'Vodafone,', 'to', 'who', 'What', 'is', 'the', 'should', '3g', 'on', 'can'}{'in', 'for', 'an', ...   \n",
              "138386                                                                                 {'4-year'}{'2-year'}   \n",
              "366488                                                {'20', '2', 'do', 'in', 'months?'}{'quickly?', 'can'}   \n",
              "143925  {'Trump', 'to', 'will', 'and', 'wins', 'electors', 'but', 'votes', 'Hillary?', 'college,'}{'Dec....   \n",
              "366859  {'SEM', 'to', 'for', \"What's\", 'the', 'generation', '$2,000', 'on', 'a', 'product?'}{'generation...   \n",
              "\n",
              "        stopwords_contain_numbers  \n",
              "94595                           1  \n",
              "138386                          1  \n",
              "366488                          1  \n",
              "143925                          1  \n",
              "366859                          1  "
            ],
            "text/html": [
              "\n",
              "  <div id=\"df-b695c5aa-6a5d-4062-9988-bee9ab49e93c\">\n",
              "    <div class=\"colab-df-container\">\n",
              "      <div>\n",
              "<style scoped>\n",
              "    .dataframe tbody tr th:only-of-type {\n",
              "        vertical-align: middle;\n",
              "    }\n",
              "\n",
              "    .dataframe tbody tr th {\n",
              "        vertical-align: top;\n",
              "    }\n",
              "\n",
              "    .dataframe thead th {\n",
              "        text-align: right;\n",
              "    }\n",
              "</style>\n",
              "<table border=\"1\" class=\"dataframe\">\n",
              "  <thead>\n",
              "    <tr style=\"text-align: right;\">\n",
              "      <th></th>\n",
              "      <th>id</th>\n",
              "      <th>qid1</th>\n",
              "      <th>qid2</th>\n",
              "      <th>question1</th>\n",
              "      <th>question2</th>\n",
              "      <th>is_duplicate</th>\n",
              "      <th>question1_cleaned</th>\n",
              "      <th>question2_cleaned</th>\n",
              "      <th>ratio_words_q1</th>\n",
              "      <th>ratio_words_q2</th>\n",
              "      <th>full_ratio_words_q1</th>\n",
              "      <th>full_ratio_words_q2</th>\n",
              "      <th>q1_not_q2</th>\n",
              "      <th>q2_not_q1</th>\n",
              "      <th>full_q1_not_q2</th>\n",
              "      <th>full_q2_not_q1</th>\n",
              "      <th>q1_words</th>\n",
              "      <th>q2_words</th>\n",
              "      <th>stopwords</th>\n",
              "      <th>stopwords_contain_numbers</th>\n",
              "    </tr>\n",
              "  </thead>\n",
              "  <tbody>\n",
              "    <tr>\n",
              "      <th>94595</th>\n",
              "      <td>94595</td>\n",
              "      <td>156033</td>\n",
              "      <td>157937</td>\n",
              "      <td>How should I approach someone who can install a 3g mobile tower on my land? What is the procedur...</td>\n",
              "      <td>How do I contact a mobile tower installation company for an installation in my land?</td>\n",
              "      <td>1</td>\n",
              "      <td>approach someone install mobile tower land procedure install vodafone</td>\n",
              "      <td>contact mobile tower installation company installation land</td>\n",
              "      <td>0.375000</td>\n",
              "      <td>0.500000</td>\n",
              "      <td>0.333333</td>\n",
              "      <td>0.500000</td>\n",
              "      <td>{install, someone, procedure, vodafone, approach}</td>\n",
              "      <td>{installation, contact, company}</td>\n",
              "      <td>{to, install, who, What, is, someone, the, on, procedure, should, 3g, Vodafone,, approach, can}</td>\n",
              "      <td>{for, company, in, do, an, installation, contact}</td>\n",
              "      <td>22</td>\n",
              "      <td>15</td>\n",
              "      <td>{'Vodafone,', 'to', 'who', 'What', 'is', 'the', 'should', '3g', 'on', 'can'}{'in', 'for', 'an', ...</td>\n",
              "      <td>1</td>\n",
              "    </tr>\n",
              "    <tr>\n",
              "      <th>138386</th>\n",
              "      <td>138386</td>\n",
              "      <td>220356</td>\n",
              "      <td>220357</td>\n",
              "      <td>What kind of jobs could I get with a 4-year degree in architecture?</td>\n",
              "      <td>What kind of jobs could I get with a 2-year degree in architecture?</td>\n",
              "      <td>0</td>\n",
              "      <td>kind job could get degree architecture</td>\n",
              "      <td>kind job could get degree architecture</td>\n",
              "      <td>1.000000</td>\n",
              "      <td>1.000000</td>\n",
              "      <td>0.923077</td>\n",
              "      <td>0.923077</td>\n",
              "      <td>{}</td>\n",
              "      <td>{}</td>\n",
              "      <td>{4-year}</td>\n",
              "      <td>{2-year}</td>\n",
              "      <td>13</td>\n",
              "      <td>13</td>\n",
              "      <td>{'4-year'}{'2-year'}</td>\n",
              "      <td>1</td>\n",
              "    </tr>\n",
              "    <tr>\n",
              "      <th>366488</th>\n",
              "      <td>366488</td>\n",
              "      <td>11341</td>\n",
              "      <td>4044</td>\n",
              "      <td>How do I lose 20 kg in 2 months?</td>\n",
              "      <td>How can I lose weight quickly?</td>\n",
              "      <td>0</td>\n",
              "      <td>lose kg month</td>\n",
              "      <td>lose weight quickly</td>\n",
              "      <td>0.333333</td>\n",
              "      <td>0.333333</td>\n",
              "      <td>0.333333</td>\n",
              "      <td>0.500000</td>\n",
              "      <td>{month, kg}</td>\n",
              "      <td>{quickly, weight}</td>\n",
              "      <td>{20, 2, do, in, months?, kg}</td>\n",
              "      <td>{quickly?, can, weight}</td>\n",
              "      <td>9</td>\n",
              "      <td>6</td>\n",
              "      <td>{'20', '2', 'do', 'in', 'months?'}{'quickly?', 'can'}</td>\n",
              "      <td>1</td>\n",
              "    </tr>\n",
              "    <tr>\n",
              "      <th>143925</th>\n",
              "      <td>143925</td>\n",
              "      <td>227919</td>\n",
              "      <td>227920</td>\n",
              "      <td>What will happen if Trump wins enough votes to win the electoral college, but electors jump ship...</td>\n",
              "      <td>What would happen if the electoral college voted for Hillary on Dec. 19th instead of Trump?</td>\n",
              "      <td>0</td>\n",
              "      <td>happen trump win enough vote win electoral college elector jump ship vote hillary</td>\n",
              "      <td>would happen electoral college voted hillary dec instead trump</td>\n",
              "      <td>0.454545</td>\n",
              "      <td>0.555556</td>\n",
              "      <td>0.285714</td>\n",
              "      <td>0.375000</td>\n",
              "      <td>{jump, elector, ship, vote, win, enough}</td>\n",
              "      <td>{voted, dec, instead, would}</td>\n",
              "      <td>{Trump, to, jump, will, and, wins, electors, ship, but, votes, vote, Hillary?, win, enough, coll...</td>\n",
              "      <td>{Dec., Trump?, on, would, instead, 19th, voted, Hillary, college, of}</td>\n",
              "      <td>21</td>\n",
              "      <td>16</td>\n",
              "      <td>{'Trump', 'to', 'will', 'and', 'wins', 'electors', 'but', 'votes', 'Hillary?', 'college,'}{'Dec....</td>\n",
              "      <td>1</td>\n",
              "    </tr>\n",
              "    <tr>\n",
              "      <th>366859</th>\n",
              "      <td>366859</td>\n",
              "      <td>497106</td>\n",
              "      <td>497107</td>\n",
              "      <td>What's the best way to spend $2,000 on SEM for a lead generation campaign for a new investment p...</td>\n",
              "      <td>How do you invest in lead generation?</td>\n",
              "      <td>0</td>\n",
              "      <td>best way spend sem lead generation campaign new investment product</td>\n",
              "      <td>invest lead generation</td>\n",
              "      <td>0.200000</td>\n",
              "      <td>0.666667</td>\n",
              "      <td>0.058824</td>\n",
              "      <td>0.142857</td>\n",
              "      <td>{campaign, best, investment, product, way, spend, sem, new}</td>\n",
              "      <td>{invest}</td>\n",
              "      <td>{SEM, to, for, campaign, best, What's, investment, the, generation, way, spend, $2,000, a, on, n...</td>\n",
              "      <td>{generation?, do, in, invest, How, you}</td>\n",
              "      <td>19</td>\n",
              "      <td>7</td>\n",
              "      <td>{'SEM', 'to', 'for', \"What's\", 'the', 'generation', '$2,000', 'on', 'a', 'product?'}{'generation...</td>\n",
              "      <td>1</td>\n",
              "    </tr>\n",
              "  </tbody>\n",
              "</table>\n",
              "</div>\n",
              "      <button class=\"colab-df-convert\" onclick=\"convertToInteractive('df-b695c5aa-6a5d-4062-9988-bee9ab49e93c')\"\n",
              "              title=\"Convert this dataframe to an interactive table.\"\n",
              "              style=\"display:none;\">\n",
              "        \n",
              "  <svg xmlns=\"http://www.w3.org/2000/svg\" height=\"24px\"viewBox=\"0 0 24 24\"\n",
              "       width=\"24px\">\n",
              "    <path d=\"M0 0h24v24H0V0z\" fill=\"none\"/>\n",
              "    <path d=\"M18.56 5.44l.94 2.06.94-2.06 2.06-.94-2.06-.94-.94-2.06-.94 2.06-2.06.94zm-11 1L8.5 8.5l.94-2.06 2.06-.94-2.06-.94L8.5 2.5l-.94 2.06-2.06.94zm10 10l.94 2.06.94-2.06 2.06-.94-2.06-.94-.94-2.06-.94 2.06-2.06.94z\"/><path d=\"M17.41 7.96l-1.37-1.37c-.4-.4-.92-.59-1.43-.59-.52 0-1.04.2-1.43.59L10.3 9.45l-7.72 7.72c-.78.78-.78 2.05 0 2.83L4 21.41c.39.39.9.59 1.41.59.51 0 1.02-.2 1.41-.59l7.78-7.78 2.81-2.81c.8-.78.8-2.07 0-2.86zM5.41 20L4 18.59l7.72-7.72 1.47 1.35L5.41 20z\"/>\n",
              "  </svg>\n",
              "      </button>\n",
              "      \n",
              "  <style>\n",
              "    .colab-df-container {\n",
              "      display:flex;\n",
              "      flex-wrap:wrap;\n",
              "      gap: 12px;\n",
              "    }\n",
              "\n",
              "    .colab-df-convert {\n",
              "      background-color: #E8F0FE;\n",
              "      border: none;\n",
              "      border-radius: 50%;\n",
              "      cursor: pointer;\n",
              "      display: none;\n",
              "      fill: #1967D2;\n",
              "      height: 32px;\n",
              "      padding: 0 0 0 0;\n",
              "      width: 32px;\n",
              "    }\n",
              "\n",
              "    .colab-df-convert:hover {\n",
              "      background-color: #E2EBFA;\n",
              "      box-shadow: 0px 1px 2px rgba(60, 64, 67, 0.3), 0px 1px 3px 1px rgba(60, 64, 67, 0.15);\n",
              "      fill: #174EA6;\n",
              "    }\n",
              "\n",
              "    [theme=dark] .colab-df-convert {\n",
              "      background-color: #3B4455;\n",
              "      fill: #D2E3FC;\n",
              "    }\n",
              "\n",
              "    [theme=dark] .colab-df-convert:hover {\n",
              "      background-color: #434B5C;\n",
              "      box-shadow: 0px 1px 3px 1px rgba(0, 0, 0, 0.15);\n",
              "      filter: drop-shadow(0px 1px 2px rgba(0, 0, 0, 0.3));\n",
              "      fill: #FFFFFF;\n",
              "    }\n",
              "  </style>\n",
              "\n",
              "      <script>\n",
              "        const buttonEl =\n",
              "          document.querySelector('#df-b695c5aa-6a5d-4062-9988-bee9ab49e93c button.colab-df-convert');\n",
              "        buttonEl.style.display =\n",
              "          google.colab.kernel.accessAllowed ? 'block' : 'none';\n",
              "\n",
              "        async function convertToInteractive(key) {\n",
              "          const element = document.querySelector('#df-b695c5aa-6a5d-4062-9988-bee9ab49e93c');\n",
              "          const dataTable =\n",
              "            await google.colab.kernel.invokeFunction('convertToInteractive',\n",
              "                                                     [key], {});\n",
              "          if (!dataTable) return;\n",
              "\n",
              "          const docLinkHtml = 'Like what you see? Visit the ' +\n",
              "            '<a target=\"_blank\" href=https://colab.research.google.com/notebooks/data_table.ipynb>data table notebook</a>'\n",
              "            + ' to learn more about interactive tables.';\n",
              "          element.innerHTML = '';\n",
              "          dataTable['output_type'] = 'display_data';\n",
              "          await google.colab.output.renderOutput(dataTable, element);\n",
              "          const docLink = document.createElement('div');\n",
              "          docLink.innerHTML = docLinkHtml;\n",
              "          element.appendChild(docLink);\n",
              "        }\n",
              "      </script>\n",
              "    </div>\n",
              "  </div>\n",
              "  "
            ]
          },
          "metadata": {},
          "execution_count": 42
        }
      ],
      "source": [
        "# Sample of 5 where stopwords_contain_numbers is 1\n",
        "df[df['stopwords_contain_numbers'] == 1].sample(5)"
      ]
    },
    {
      "cell_type": "code",
      "source": [
        "#from sklearn.feature_extraction.text import CountVectorizer #for BoW\n",
        "#vect = CountVectorizer()\n",
        "\n",
        "# Convenience function\n",
        "# This function will apply a vectorizer to a series of text\n",
        "# Will return a dataframe with the results of the vectorizer.\n",
        "#def create_doc_term_matrix(text,vectorizer):\n",
        "    #doc_term_matrix = vectorizer.fit_transform(text)\n",
        "    #return pd.DataFrame(doc_term_matrix.toarray(), columns = vectorizer.get_feature_names_out())\n",
        "\n"
      ],
      "metadata": {
        "id": "hGuZIx4jnc_h"
      },
      "execution_count": null,
      "outputs": []
    },
    {
      "cell_type": "code",
      "execution_count": null,
      "metadata": {
        "id": "OvadTNEB762y"
      },
      "outputs": [],
      "source": [
        "# Use word2vec to see the cosine similarity between question 1 and question 2\n",
        "\n",
        "# Import libraries\n",
        "from gensim.models import Word2Vec\n",
        "from nltk.tokenize import word_tokenize\n",
        "\n",
        "# Create a list of all words, we'll use question1_cleaned and question2_cleaned\n",
        "all_words = df['question1_cleaned'].tolist() + df['question2_cleaned'].tolist()\n",
        "\n",
        "# Tokenize the words\n",
        "all_words_tokenized = [word_tokenize(word) for word in all_words]\n",
        "\n",
        "# Create a word2vec model\n",
        "model = Word2Vec(all_words_tokenized, min_count=1)\n",
        "\n",
        "# Create a function that will create a vector for each question\n",
        "def create_vector(question):\n",
        "    vector = np.zeros(100)\n",
        "    for word in question.split():\n",
        "        vector += model.wv[word]\n",
        "    return vector\n",
        "\n",
        "# Create a column with the vector for question1\n",
        "df['question1_vector'] = df.apply(lambda row: create_vector(row['question1_cleaned']), axis=1)\n",
        "\n",
        "# Create a column with the vector for question2\n",
        "df['question2_vector'] = df.apply(lambda row: create_vector(row['question2_cleaned']), axis=1)\n"
      ]
    },
    {
      "cell_type": "code",
      "execution_count": null,
      "metadata": {
        "colab": {
          "base_uri": "https://localhost:8080/"
        },
        "id": "NzQAJuMx760K",
        "outputId": "6fbcc2dc-03ad-465c-8fe9-f28e915c3418"
      },
      "outputs": [
        {
          "output_type": "stream",
          "name": "stderr",
          "text": [
            "/usr/local/lib/python3.9/dist-packages/scipy/spatial/distance.py:622: RuntimeWarning: invalid value encountered in double_scalars\n",
            "  dist = 1.0 - uv / np.sqrt(uu * vv)\n"
          ]
        }
      ],
      "source": [
        "# Create a column with the cosine similarity between question1_vector and question2_vector\n",
        "df['cosine_similarity'] = df.apply(lambda row: 1 - spatial.distance.cosine(row['question1_vector'], row['question2_vector']), axis=1)"
      ]
    },
    {
      "cell_type": "code",
      "execution_count": null,
      "metadata": {
        "colab": {
          "base_uri": "https://localhost:8080/"
        },
        "id": "aPAFEUKI76xV",
        "outputId": "c1e50f00-5250-42a8-9986-c9629a6dc850"
      },
      "outputs": [
        {
          "data": {
            "text/plain": [
              "Index(['id', 'qid1', 'qid2', 'question1', 'question2', 'is_duplicate',\n",
              "       'question1_cleaned', 'question2_cleaned', 'ratio_words_q1',\n",
              "       'ratio_words_q2', 'full_ratio_words_q1', 'full_ratio_words_q2',\n",
              "       'q1_not_q2', 'q2_not_q1', 'full_q1_not_q2', 'full_q2_not_q1',\n",
              "       'q1_words', 'q2_words', 'stopwords', 'stopwords_contain_numbers',\n",
              "       'question1_vector', 'question2_vector', 'cosine_similarity'],\n",
              "      dtype='object')"
            ]
          },
          "execution_count": 319,
          "metadata": {},
          "output_type": "execute_result"
        }
      ],
      "source": [
        "df.columns"
      ]
    },
    {
      "cell_type": "code",
      "execution_count": null,
      "metadata": {
        "colab": {
          "base_uri": "https://localhost:8080/",
          "height": 636
        },
        "id": "HVqtySNS76s8",
        "outputId": "72614578-583f-4d95-89ba-656e902ebf02"
      },
      "outputs": [
        {
          "data": {
            "text/html": [
              "\n",
              "  <div id=\"df-30c9364c-6218-4771-b26a-33ba6b1c9bbf\">\n",
              "    <div class=\"colab-df-container\">\n",
              "      <div>\n",
              "<style scoped>\n",
              "    .dataframe tbody tr th:only-of-type {\n",
              "        vertical-align: middle;\n",
              "    }\n",
              "\n",
              "    .dataframe tbody tr th {\n",
              "        vertical-align: top;\n",
              "    }\n",
              "\n",
              "    .dataframe thead th {\n",
              "        text-align: right;\n",
              "    }\n",
              "</style>\n",
              "<table border=\"1\" class=\"dataframe\">\n",
              "  <thead>\n",
              "    <tr style=\"text-align: right;\">\n",
              "      <th></th>\n",
              "      <th>id</th>\n",
              "      <th>qid1</th>\n",
              "      <th>qid2</th>\n",
              "      <th>question1</th>\n",
              "      <th>question2</th>\n",
              "      <th>is_duplicate</th>\n",
              "      <th>question1_cleaned</th>\n",
              "      <th>question2_cleaned</th>\n",
              "      <th>ratio_words_q1</th>\n",
              "      <th>ratio_words_q2</th>\n",
              "      <th>...</th>\n",
              "      <th>q2_not_q1</th>\n",
              "      <th>full_q1_not_q2</th>\n",
              "      <th>full_q2_not_q1</th>\n",
              "      <th>q1_words</th>\n",
              "      <th>q2_words</th>\n",
              "      <th>stopwords</th>\n",
              "      <th>stopwords_contain_numbers</th>\n",
              "      <th>question1_vector</th>\n",
              "      <th>question2_vector</th>\n",
              "      <th>cosine_similarity</th>\n",
              "    </tr>\n",
              "  </thead>\n",
              "  <tbody>\n",
              "    <tr>\n",
              "      <th>0</th>\n",
              "      <td>0</td>\n",
              "      <td>1</td>\n",
              "      <td>2</td>\n",
              "      <td>What is the step by step guide to invest in share market in india</td>\n",
              "      <td>What is the step by step guide to invest in share market</td>\n",
              "      <td>0</td>\n",
              "      <td>step step guide invest share market india</td>\n",
              "      <td>step step guide invest share market</td>\n",
              "      <td>0.833333</td>\n",
              "      <td>1.00</td>\n",
              "      <td>...</td>\n",
              "      <td>{}</td>\n",
              "      <td>{india}</td>\n",
              "      <td>{}</td>\n",
              "      <td>14</td>\n",
              "      <td>12</td>\n",
              "      <td>set()set()</td>\n",
              "      <td>0</td>\n",
              "      <td>[1.5629367381334305, -4.429801754653454, -0.0415748655796051, -1.114059641957283, -0.24077069759...</td>\n",
              "      <td>[3.170061782002449, -3.5336892530322075, 0.6107922494411469, 0.3536253422498703, 1.4807226657867...</td>\n",
              "      <td>0.972169</td>\n",
              "    </tr>\n",
              "    <tr>\n",
              "      <th>1</th>\n",
              "      <td>1</td>\n",
              "      <td>3</td>\n",
              "      <td>4</td>\n",
              "      <td>What is the story of Kohinoor (Koh-i-Noor) Diamond</td>\n",
              "      <td>What would happen if the Indian government stole the Kohinoor (Koh-i-Noor) diamond back</td>\n",
              "      <td>0</td>\n",
              "      <td>story kohinoor kohinoor diamond</td>\n",
              "      <td>would happen indian government stole kohinoor kohinoor diamond back</td>\n",
              "      <td>0.666667</td>\n",
              "      <td>0.25</td>\n",
              "      <td>...</td>\n",
              "      <td>{happen, government, would, indian, stole, back}</td>\n",
              "      <td>{story, Diamond, is, of}</td>\n",
              "      <td>{Indian, diamond, happen, if, government, would, stole, back}</td>\n",
              "      <td>8</td>\n",
              "      <td>13</td>\n",
              "      <td>{'Diamond', 'is', 'of'}{'Indian', 'if', 'diamond'}</td>\n",
              "      <td>0</td>\n",
              "      <td>[-0.376870721578598, 0.8545531034469604, -0.24075673520565033, 0.6762119233608246, -0.2488368749...</td>\n",
              "      <td>[2.159793972969055, -0.7927706935442984, 4.853315077722073, -0.36384678818285465, 0.918758962303...</td>\n",
              "      <td>0.188891</td>\n",
              "    </tr>\n",
              "    <tr>\n",
              "      <th>2</th>\n",
              "      <td>2</td>\n",
              "      <td>5</td>\n",
              "      <td>6</td>\n",
              "      <td>How can I increase the speed of my internet connection while using a VPN</td>\n",
              "      <td>How can Internet speed be increased by hacking through DNS</td>\n",
              "      <td>0</td>\n",
              "      <td>increase speed internet connection using vpn</td>\n",
              "      <td>internet speed increased hacking dns</td>\n",
              "      <td>0.333333</td>\n",
              "      <td>0.40</td>\n",
              "      <td>...</td>\n",
              "      <td>{increased, dns, hacking}</td>\n",
              "      <td>{increase, of, I, using, my, VPN, the, while, connection, a, internet}</td>\n",
              "      <td>{increased, Internet, through, hacking, by, be, DNS}</td>\n",
              "      <td>14</td>\n",
              "      <td>10</td>\n",
              "      <td>{'I', 'of', 'my', 'VPN', 'the', 'while', 'a', 'internet'}{'Internet', 'through', 'by', 'be', 'DNS'}</td>\n",
              "      <td>0</td>\n",
              "      <td>[0.33438099920749664, 4.357750318944454, -3.8792817890644073, -2.835099071264267, -0.10741064697...</td>\n",
              "      <td>[1.9483218900859356, 3.4851392060518265, -1.8087058067321777, 1.3937389440834522, -0.61842734366...</td>\n",
              "      <td>0.891879</td>\n",
              "    </tr>\n",
              "  </tbody>\n",
              "</table>\n",
              "<p>3 rows × 23 columns</p>\n",
              "</div>\n",
              "      <button class=\"colab-df-convert\" onclick=\"convertToInteractive('df-30c9364c-6218-4771-b26a-33ba6b1c9bbf')\"\n",
              "              title=\"Convert this dataframe to an interactive table.\"\n",
              "              style=\"display:none;\">\n",
              "        \n",
              "  <svg xmlns=\"http://www.w3.org/2000/svg\" height=\"24px\"viewBox=\"0 0 24 24\"\n",
              "       width=\"24px\">\n",
              "    <path d=\"M0 0h24v24H0V0z\" fill=\"none\"/>\n",
              "    <path d=\"M18.56 5.44l.94 2.06.94-2.06 2.06-.94-2.06-.94-.94-2.06-.94 2.06-2.06.94zm-11 1L8.5 8.5l.94-2.06 2.06-.94-2.06-.94L8.5 2.5l-.94 2.06-2.06.94zm10 10l.94 2.06.94-2.06 2.06-.94-2.06-.94-.94-2.06-.94 2.06-2.06.94z\"/><path d=\"M17.41 7.96l-1.37-1.37c-.4-.4-.92-.59-1.43-.59-.52 0-1.04.2-1.43.59L10.3 9.45l-7.72 7.72c-.78.78-.78 2.05 0 2.83L4 21.41c.39.39.9.59 1.41.59.51 0 1.02-.2 1.41-.59l7.78-7.78 2.81-2.81c.8-.78.8-2.07 0-2.86zM5.41 20L4 18.59l7.72-7.72 1.47 1.35L5.41 20z\"/>\n",
              "  </svg>\n",
              "      </button>\n",
              "      \n",
              "  <style>\n",
              "    .colab-df-container {\n",
              "      display:flex;\n",
              "      flex-wrap:wrap;\n",
              "      gap: 12px;\n",
              "    }\n",
              "\n",
              "    .colab-df-convert {\n",
              "      background-color: #E8F0FE;\n",
              "      border: none;\n",
              "      border-radius: 50%;\n",
              "      cursor: pointer;\n",
              "      display: none;\n",
              "      fill: #1967D2;\n",
              "      height: 32px;\n",
              "      padding: 0 0 0 0;\n",
              "      width: 32px;\n",
              "    }\n",
              "\n",
              "    .colab-df-convert:hover {\n",
              "      background-color: #E2EBFA;\n",
              "      box-shadow: 0px 1px 2px rgba(60, 64, 67, 0.3), 0px 1px 3px 1px rgba(60, 64, 67, 0.15);\n",
              "      fill: #174EA6;\n",
              "    }\n",
              "\n",
              "    [theme=dark] .colab-df-convert {\n",
              "      background-color: #3B4455;\n",
              "      fill: #D2E3FC;\n",
              "    }\n",
              "\n",
              "    [theme=dark] .colab-df-convert:hover {\n",
              "      background-color: #434B5C;\n",
              "      box-shadow: 0px 1px 3px 1px rgba(0, 0, 0, 0.15);\n",
              "      filter: drop-shadow(0px 1px 2px rgba(0, 0, 0, 0.3));\n",
              "      fill: #FFFFFF;\n",
              "    }\n",
              "  </style>\n",
              "\n",
              "      <script>\n",
              "        const buttonEl =\n",
              "          document.querySelector('#df-30c9364c-6218-4771-b26a-33ba6b1c9bbf button.colab-df-convert');\n",
              "        buttonEl.style.display =\n",
              "          google.colab.kernel.accessAllowed ? 'block' : 'none';\n",
              "\n",
              "        async function convertToInteractive(key) {\n",
              "          const element = document.querySelector('#df-30c9364c-6218-4771-b26a-33ba6b1c9bbf');\n",
              "          const dataTable =\n",
              "            await google.colab.kernel.invokeFunction('convertToInteractive',\n",
              "                                                     [key], {});\n",
              "          if (!dataTable) return;\n",
              "\n",
              "          const docLinkHtml = 'Like what you see? Visit the ' +\n",
              "            '<a target=\"_blank\" href=https://colab.research.google.com/notebooks/data_table.ipynb>data table notebook</a>'\n",
              "            + ' to learn more about interactive tables.';\n",
              "          element.innerHTML = '';\n",
              "          dataTable['output_type'] = 'display_data';\n",
              "          await google.colab.output.renderOutput(dataTable, element);\n",
              "          const docLink = document.createElement('div');\n",
              "          docLink.innerHTML = docLinkHtml;\n",
              "          element.appendChild(docLink);\n",
              "        }\n",
              "      </script>\n",
              "    </div>\n",
              "  </div>\n",
              "  "
            ],
            "text/plain": [
              "   id  qid1  qid2  \\\n",
              "0   0     1     2   \n",
              "1   1     3     4   \n",
              "2   2     5     6   \n",
              "\n",
              "                                                                  question1  \\\n",
              "0         What is the step by step guide to invest in share market in india   \n",
              "1                        What is the story of Kohinoor (Koh-i-Noor) Diamond   \n",
              "2  How can I increase the speed of my internet connection while using a VPN   \n",
              "\n",
              "                                                                                 question2  \\\n",
              "0                                 What is the step by step guide to invest in share market   \n",
              "1  What would happen if the Indian government stole the Kohinoor (Koh-i-Noor) diamond back   \n",
              "2                               How can Internet speed be increased by hacking through DNS   \n",
              "\n",
              "   is_duplicate                             question1_cleaned  \\\n",
              "0             0     step step guide invest share market india   \n",
              "1             0               story kohinoor kohinoor diamond   \n",
              "2             0  increase speed internet connection using vpn   \n",
              "\n",
              "                                                     question2_cleaned  \\\n",
              "0                                  step step guide invest share market   \n",
              "1  would happen indian government stole kohinoor kohinoor diamond back   \n",
              "2                                 internet speed increased hacking dns   \n",
              "\n",
              "   ratio_words_q1  ratio_words_q2  ...  \\\n",
              "0        0.833333            1.00  ...   \n",
              "1        0.666667            0.25  ...   \n",
              "2        0.333333            0.40  ...   \n",
              "\n",
              "                                          q2_not_q1  \\\n",
              "0                                                {}   \n",
              "1  {happen, government, would, indian, stole, back}   \n",
              "2                         {increased, dns, hacking}   \n",
              "\n",
              "                                                           full_q1_not_q2  \\\n",
              "0                                                                 {india}   \n",
              "1                                                {story, Diamond, is, of}   \n",
              "2  {increase, of, I, using, my, VPN, the, while, connection, a, internet}   \n",
              "\n",
              "                                                  full_q2_not_q1 q1_words  \\\n",
              "0                                                             {}       14   \n",
              "1  {Indian, diamond, happen, if, government, would, stole, back}        8   \n",
              "2           {increased, Internet, through, hacking, by, be, DNS}       14   \n",
              "\n",
              "  q2_words  \\\n",
              "0       12   \n",
              "1       13   \n",
              "2       10   \n",
              "\n",
              "                                                                                             stopwords  \\\n",
              "0                                                                                           set()set()   \n",
              "1                                                   {'Diamond', 'is', 'of'}{'Indian', 'if', 'diamond'}   \n",
              "2  {'I', 'of', 'my', 'VPN', 'the', 'while', 'a', 'internet'}{'Internet', 'through', 'by', 'be', 'DNS'}   \n",
              "\n",
              "   stopwords_contain_numbers  \\\n",
              "0                          0   \n",
              "1                          0   \n",
              "2                          0   \n",
              "\n",
              "                                                                                      question1_vector  \\\n",
              "0  [1.5629367381334305, -4.429801754653454, -0.0415748655796051, -1.114059641957283, -0.24077069759...   \n",
              "1  [-0.376870721578598, 0.8545531034469604, -0.24075673520565033, 0.6762119233608246, -0.2488368749...   \n",
              "2  [0.33438099920749664, 4.357750318944454, -3.8792817890644073, -2.835099071264267, -0.10741064697...   \n",
              "\n",
              "                                                                                      question2_vector  \\\n",
              "0  [3.170061782002449, -3.5336892530322075, 0.6107922494411469, 0.3536253422498703, 1.4807226657867...   \n",
              "1  [2.159793972969055, -0.7927706935442984, 4.853315077722073, -0.36384678818285465, 0.918758962303...   \n",
              "2  [1.9483218900859356, 3.4851392060518265, -1.8087058067321777, 1.3937389440834522, -0.61842734366...   \n",
              "\n",
              "   cosine_similarity  \n",
              "0           0.972169  \n",
              "1           0.188891  \n",
              "2           0.891879  \n",
              "\n",
              "[3 rows x 23 columns]"
            ]
          },
          "execution_count": 320,
          "metadata": {},
          "output_type": "execute_result"
        }
      ],
      "source": [
        "df.head(3)"
      ]
    },
    {
      "cell_type": "code",
      "execution_count": null,
      "metadata": {
        "id": "UT0uUMWG76jN"
      },
      "outputs": [],
      "source": [
        "# Create a random forest classifier\n",
        "from sklearn.ensemble import RandomForestClassifier\n",
        "\n",
        "# remove categorical columns and target\n",
        "X = df.drop(['id', 'question1', 'question2', 'is_duplicate', 'question1_cleaned', 'question2_cleaned', 'q1_not_q2', 'q2_not_q1', 'full_q1_not_q2', 'full_q2_not_q1', 'stopwords', 'question1_vector', 'question2_vector'], axis=1)\n",
        "\n",
        "# y as target\n",
        "y = df['is_duplicate']\n",
        "#X.head()"
      ]
    },
    {
      "cell_type": "markdown",
      "source": [],
      "metadata": {
        "id": "dQQzNYPKpIsX"
      }
    },
    {
      "cell_type": "code",
      "execution_count": null,
      "metadata": {
        "id": "4V4-1QQZ76Vs"
      },
      "outputs": [],
      "source": [
        "#doing train and test split\n",
        "from sklearn.model_selection import train_test_split\n",
        "X_train, X_test, y_train, y_test = train_test_split(X, y, test_size=0.2, random_state=42)"
      ]
    },
    {
      "cell_type": "code",
      "execution_count": null,
      "metadata": {
        "id": "ew-AT4Vy76FO"
      },
      "outputs": [],
      "source": []
    },
    {
      "cell_type": "markdown",
      "metadata": {
        "id": "iRrQkebspbq4"
      },
      "source": [
        "### Modeling\n",
        "\n",
        "Different modeling techniques can be used:\n",
        "\n",
        "- logistic regression\n",
        "- XGBoost\n",
        "- LSTMs\n",
        "- etc"
      ]
    },
    {
      "cell_type": "code",
      "execution_count": null,
      "metadata": {
        "colab": {
          "base_uri": "https://localhost:8080/"
        },
        "id": "w8MWu6Nrpbq5",
        "outputId": "aef37dd7-6479-4340-8b53-3e79c407c5ee"
      },
      "outputs": [
        {
          "output_type": "stream",
          "name": "stdout",
          "text": [
            "0.7784387444656063\n"
          ]
        }
      ],
      "source": [
        "# define model instance\n",
        "rf = RandomForestClassifier(n_estimators=100, max_depth=10, random_state=0)\n",
        "\n",
        "# Train the model with train data\n",
        "rf.fit(X_train, y_train)\n",
        "\n",
        "# validate the model with test data\n",
        "y_pred1 = rf.predict(X_test)\n",
        "\n",
        "# Print the accuracy score\n",
        "from sklearn.metrics import accuracy_score\n",
        "print(accuracy_score(y_test, y_pred1))"
      ]
    },
    {
      "cell_type": "code",
      "execution_count": null,
      "metadata": {
        "colab": {
          "base_uri": "https://localhost:8080/"
        },
        "id": "kiZVdx8opbq5",
        "outputId": "ebb91352-4eb3-4a0d-e7ea-1caa79ef84a1"
      },
      "outputs": [
        {
          "output_type": "stream",
          "name": "stdout",
          "text": [
            "0.7967424373593213\n"
          ]
        }
      ],
      "source": [
        "# Same as above but with XGBoost\n",
        "\n",
        "# Import libraries\n",
        "from xgboost import XGBClassifier\n",
        "\n",
        "# Set the model\n",
        "xgb = XGBClassifier(n_estimators=100, max_depth=10, random_state=0)\n",
        "\n",
        "# Train the model\n",
        "xgb.fit(X_train, y_train)\n",
        "\n",
        "# Predict the model\n",
        "y_pred2 = xgb.predict(X_test)\n",
        "\n",
        "# Print the accuracy score\n",
        "from sklearn.metrics import accuracy_score\n",
        "print(accuracy_score(y_test, y_pred2))"
      ]
    },
    {
      "cell_type": "code",
      "source": [
        "#XGBoost by cross validation\n",
        "from sklearn.model_selection import cross_val_score\n",
        "from sklearn.model_selection import cross_val_predict\n",
        "xgb = XGBClassifier(n_estimators=100, max_depth=10, random_state=0)\n",
        "pred2 = cross_val_predict(xgb, X, y, cv=5)\n",
        "print(confusion_matrix(y, pred2))\n",
        "print(accuracy_score(y, pred2))"
      ],
      "metadata": {
        "colab": {
          "base_uri": "https://localhost:8080/"
        },
        "id": "XhhalJxx90cz",
        "outputId": "20e1f63a-3f06-4f57-87dd-2dc2ed7d318a"
      },
      "execution_count": null,
      "outputs": [
        {
          "output_type": "stream",
          "name": "stdout",
          "text": [
            "[[162411  92613]\n",
            " [ 26250 123013]]\n",
            "0.7059935145082578\n"
          ]
        }
      ]
    },
    {
      "cell_type": "code",
      "source": [
        "#second method\n",
        "from sklearn.linear_model import LogisticRegression\n",
        "LGR = LogisticRegression()\n",
        "LGR.fit(X_train, y_train)\n",
        "y_pred3 = LGR.predict(X_test)\n",
        "\n",
        "# Print the accuracy score\n",
        "from sklearn.metrics import accuracy_score\n",
        "print(accuracy_score(y_test, y_pred3))\n"
      ],
      "metadata": {
        "colab": {
          "base_uri": "https://localhost:8080/"
        },
        "id": "HYM-6gIQ4Zvb",
        "outputId": "6e7f7793-4d00-45db-cabc-28927a7a5c65"
      },
      "execution_count": null,
      "outputs": [
        {
          "output_type": "stream",
          "name": "stdout",
          "text": [
            "0.6310569145910114\n"
          ]
        }
      ]
    },
    {
      "cell_type": "markdown",
      "source": [
        "#### so the best model is XGBoost -----> ypred2"
      ],
      "metadata": {
        "id": "0jkldg6Yx63a"
      }
    },
    {
      "cell_type": "code",
      "execution_count": null,
      "metadata": {
        "colab": {
          "base_uri": "https://localhost:8080/"
        },
        "id": "mYA9znvwpbq5",
        "outputId": "ee0a97a3-d902-496a-bd69-b9e1480e46b7"
      },
      "outputs": [
        {
          "output_type": "stream",
          "name": "stdout",
          "text": [
            "[[43281  7745]\n",
            " [ 8690 21142]]\n"
          ]
        }
      ],
      "source": [
        "# print confusion matrix for best model\n",
        "from sklearn.metrics import confusion_matrix\n",
        "\n",
        "print(confusion_matrix(y_test, y_pred2))"
      ]
    },
    {
      "cell_type": "code",
      "execution_count": null,
      "metadata": {
        "colab": {
          "base_uri": "https://localhost:8080/"
        },
        "id": "PKDyhjJdpbq5",
        "outputId": "3e812a71-2681-461c-88a5-80f898d3e4d0"
      },
      "outputs": [
        {
          "output_type": "stream",
          "name": "stdout",
          "text": [
            "              precision    recall  f1-score   support\n",
            "\n",
            "           0       0.83      0.85      0.84     51026\n",
            "           1       0.73      0.71      0.72     29832\n",
            "\n",
            "    accuracy                           0.80     80858\n",
            "   macro avg       0.78      0.78      0.78     80858\n",
            "weighted avg       0.80      0.80      0.80     80858\n",
            "\n"
          ]
        }
      ],
      "source": [
        "# print classification report for best model\n",
        "from sklearn.metrics import classification_report\n",
        "\n",
        "print(classification_report(y_test, y_pred2))"
      ]
    },
    {
      "cell_type": "code",
      "execution_count": null,
      "metadata": {
        "id": "edqFCXjCbJI1"
      },
      "outputs": [],
      "source": []
    },
    {
      "cell_type": "code",
      "execution_count": null,
      "metadata": {
        "colab": {
          "base_uri": "https://localhost:8080/"
        },
        "id": "GRfX4HqRpbq5",
        "outputId": "c901824e-5897-42bf-d90f-37f5f40326bb"
      },
      "outputs": [
        {
          "output_type": "stream",
          "name": "stdout",
          "text": [
            "0.8364602374056054\n",
            "[[224054  30970]\n",
            " [ 35147 114116]]\n"
          ]
        }
      ],
      "source": [
        "# train our model to whole data frame\n",
        "df['prediction'] = xgb.predict(X)\n",
        "print(accuracy_score(y, df['prediction']))\n",
        "print(confusion_matrix(y, df['prediction']))\n",
        "\n"
      ]
    },
    {
      "cell_type": "code",
      "execution_count": null,
      "metadata": {
        "colab": {
          "base_uri": "https://localhost:8080/"
        },
        "id": "QSSSoWbsa7CP",
        "outputId": "7bb0cad6-fedb-457b-8451-d4da7af4f5dd"
      },
      "outputs": [
        {
          "output_type": "stream",
          "name": "stdout",
          "text": [
            "537359\n"
          ]
        }
      ],
      "source": [
        "# count the number of unique questions by consolidating question1 and question2\n",
        "unique_questions = pd.concat([df['question1'], df['question2']]).unique()\n",
        "\n",
        "print(len(unique_questions))"
      ]
    },
    {
      "cell_type": "code",
      "source": [
        "#confusion matrix for best model\n",
        "from sklearn.metrics import confusion_matrix, ConfusionMatrixDisplay\n",
        "print('Confusion Matrix:');\n",
        "ConfusionMatrixDisplay.from_estimator(xgb, X_test, y_test)\n"
      ],
      "metadata": {
        "colab": {
          "base_uri": "https://localhost:8080/",
          "height": 493
        },
        "id": "tGNHKNxCYaI4",
        "outputId": "e7eae0ce-c501-4dca-8fcc-9a0c11b57b3c"
      },
      "execution_count": null,
      "outputs": [
        {
          "output_type": "stream",
          "name": "stdout",
          "text": [
            "Confusion Matrix:\n"
          ]
        },
        {
          "output_type": "execute_result",
          "data": {
            "text/plain": [
              "<sklearn.metrics._plot.confusion_matrix.ConfusionMatrixDisplay at 0x7fabb147b9a0>"
            ]
          },
          "metadata": {},
          "execution_count": 90
        },
        {
          "output_type": "display_data",
          "data": {
            "text/plain": [
              "<Figure size 640x480 with 2 Axes>"
            ],
            "image/png": "[encoded data removed]"
          },
          "metadata": {}
        }
      ]
    },
    {
      "cell_type": "code",
      "source": [
        "#confusion matrix for best model----> second method\n",
        "from sklearn import metrics\n",
        "confusion_matrix = metrics.confusion_matrix(y_test, y_pred2)\n",
        "\n",
        "cm_display = metrics.ConfusionMatrixDisplay(confusion_matrix = confusion_matrix, display_labels = [False, True])\n",
        "\n",
        "cm_display.plot()\n",
        "plt.show()"
      ],
      "metadata": {
        "colab": {
          "base_uri": "https://localhost:8080/",
          "height": 458
        },
        "id": "mIjy3OB3dkEA",
        "outputId": "80b42025-4854-42c5-eed2-34862e10c839"
      },
      "execution_count": null,
      "outputs": [
        {
          "output_type": "display_data",
          "data": {
            "text/plain": [
              "<Figure size 640x480 with 2 Axes>"
            ],
            "image/png": "[encoded data removed]"
          },
          "metadata": {}
        }
      ]
    },
    {
      "cell_type": "code",
      "source": [
        "from sklearn.metrics import f1_score\n",
        "\n",
        "f1_score(y_test, y_pred2, average='macro')"
      ],
      "metadata": {
        "colab": {
          "base_uri": "https://localhost:8080/"
        },
        "id": "t9oPx-U4ze2B",
        "outputId": "8e2ee03a-9f0f-4fb1-d0e7-efec20b23dcc"
      },
      "execution_count": null,
      "outputs": [
        {
          "output_type": "execute_result",
          "data": {
            "text/plain": [
              "0.7802699384300684"
            ]
          },
          "metadata": {},
          "execution_count": 95
        }
      ]
    },
    {
      "cell_type": "code",
      "source": [
        "from sklearn.metrics import recall_score\n",
        "\n",
        "recall_score(y_test, y_pred2, average='macro')"
      ],
      "metadata": {
        "colab": {
          "base_uri": "https://localhost:8080/"
        },
        "id": "LP21KgBV1N0y",
        "outputId": "e1eea9d7-b217-456c-cd73-6c00ef344684"
      },
      "execution_count": null,
      "outputs": [
        {
          "output_type": "execute_result",
          "data": {
            "text/plain": [
              "0.7784583502863425"
            ]
          },
          "metadata": {},
          "execution_count": 96
        }
      ]
    }
  ],
  "metadata": {
    "colab": {
      "provenance": []
    },
    "kernelspec": {
      "display_name": "Python 3 (ipykernel)",
      "language": "python",
      "name": "python3"
    },
    "language_info": {
      "codemirror_mode": {
        "name": "ipython",
        "version": 3
      },
      "file_extension": ".py",
      "mimetype": "text/x-python",
      "name": "python",
      "nbconvert_exporter": "python",
      "pygments_lexer": "ipython3",
      "version": "3.9.7"
    }
  },
  "nbformat": 4,
  "nbformat_minor": 0
}